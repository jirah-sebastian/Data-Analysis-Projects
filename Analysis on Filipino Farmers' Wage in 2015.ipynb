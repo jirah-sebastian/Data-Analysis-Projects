{
  "nbformat": 4,
  "nbformat_minor": 0,
  "metadata": {
    "colab": {
      "provenance": [],
      "gpuType": "T4",
      "collapsed_sections": [
        "848N-VKG506t",
        "wvELZzwz58-9",
        "IS9iJ_H06YDZ",
        "SqnJPKqu31Yi",
        "lSBBT5CZ8mEA"
      ],
      "include_colab_link": true
    },
    "kernelspec": {
      "name": "python3",
      "display_name": "Python 3"
    },
    "language_info": {
      "name": "python"
    }
  },
  "cells": [
    {
      "cell_type": "markdown",
      "metadata": {
        "id": "view-in-github",
        "colab_type": "text"
      },
      "source": [
        "<a href=\"https://colab.research.google.com/github/jirah-sebastian/Data-Projects/blob/Data-Projects/Analysis%20on%20Filipino%20Farmers'%20Wage%20in%202015.ipynb\" target=\"_parent\"><img src=\"https://colab.research.google.com/assets/colab-badge.svg\" alt=\"Open In Colab\"/></a>"
      ]
    },
    {
      "cell_type": "markdown",
      "source": [
        "# Data Analysis and Visualization on Consolidated Philippines Poverty\n",
        "\n",
        "\n",
        "> [If you want to download the dataset that I used directly, click here.](https://docs.google.com/spreadsheets/d/e/2PACX-1vQx_qZ6O4QBSxlB6z-X-uDt1krtcRh7_EviZOeap8SXx8exgwzaBCiO5-wEEIP0l6qcek10mZsWd-mG/pub?output=csv)\n",
        "\n",
        "\n",
        "\n",
        "> [Google Sheets link for the dataset](https://docs.google.com/spreadsheets/d/1qN_yInpxvHkvRUKm_dMHkfkc6XYepaWIFJKU9uzJ4wo/edit?usp=drive_link)\n",
        "\n"
      ],
      "metadata": {
        "id": "bWV5dGilr4mh"
      }
    },
    {
      "cell_type": "markdown",
      "source": [
        "# Importing necessary libraries"
      ],
      "metadata": {
        "id": "848N-VKG506t"
      }
    },
    {
      "cell_type": "code",
      "execution_count": null,
      "metadata": {
        "id": "_py9odmoouJM"
      },
      "outputs": [],
      "source": [
        "import pandas as pd # will convert data into excel, panda will read our file\n",
        "import numpy as np #  for mathematical operations\n",
        "import matplotlib.pyplot as plt # for plotting visualizations\n",
        "import seaborn as sns # data visualization library"
      ]
    },
    {
      "cell_type": "markdown",
      "source": [
        "# Connecting the file and reading the data from the database"
      ],
      "metadata": {
        "id": "wvELZzwz58-9"
      }
    },
    {
      "cell_type": "code",
      "source": [
        "url = 'https://docs.google.com/spreadsheets/d/e/2PACX-1vQx_qZ6O4QBSxlB6z-X-uDt1krtcRh7_EviZOeap8SXx8exgwzaBCiO5-wEEIP0l6qcek10mZsWd-mG/pub?output=csv'\n",
        "\n",
        "df = pd.read_csv(url)\n",
        "df.head()"
      ],
      "metadata": {
        "id": "jFyeKrR6o6WK",
        "colab": {
          "base_uri": "https://localhost:8080/"
        },
        "outputId": "cd586ed8-4f0b-4aa7-9e05-379ecbec39eb"
      },
      "execution_count": null,
      "outputs": [
        {
          "output_type": "execute_result",
          "data": {
            "text/plain": [
              "  Regional Descriptors  Agr Wage Farm Workers Allgender 2015  \\\n",
              "0                 Armm                                162.89   \n",
              "1         Bicol Region                                167.99   \n",
              "2       Cagayan Valley                                228.77   \n",
              "3           Calabarzon                                230.92   \n",
              "4                  Car                                206.68   \n",
              "\n",
              "   Agr Wage Farm Workers Male 2015  Agr Wage Farm Workers Female 2015  \\\n",
              "0                           163.65                             103.81   \n",
              "1                           169.95                             119.52   \n",
              "2                           232.64                             199.98   \n",
              "3                           231.45                             172.04   \n",
              "4                           211.04                             195.62   \n",
              "\n",
              "   Avg Annual Total Incm Farm Households 02 03  \\\n",
              "0                                        73356   \n",
              "1                                        82988   \n",
              "2                                       145809   \n",
              "3                                       143075   \n",
              "4                                       127067   \n",
              "\n",
              "   Avg Annual Farm Incm Farm Households 02 03  \\\n",
              "0                                       34026   \n",
              "1                                       36579   \n",
              "2                                       87353   \n",
              "3                                       64498   \n",
              "4                                       71142   \n",
              "\n",
              "   Avg Annual Off Farm Incm Farm Households 02 03  \\\n",
              "0                                            5737   \n",
              "1                                            7348   \n",
              "2                                            6909   \n",
              "3                                            8444   \n",
              "4                                            9731   \n",
              "\n",
              "   Avg Annual Non Farm Incm Farm Households 02 03  \\\n",
              "0                                           24936   \n",
              "1                                           30381   \n",
              "2                                           39894   \n",
              "3                                           48590   \n",
              "4                                           37178   \n",
              "\n",
              "   Avg Annual Other Sources Incm Farm Households 02 03  Avg Rural Income 2000  \\\n",
              "0                                               8657                  73673.0   \n",
              "1                                               8680                  72626.0   \n",
              "2                                              11653                  94212.0   \n",
              "3                                              21543                      NaN   \n",
              "4                                               9016                  95635.0   \n",
              "\n",
              "   Total Emply 2016  \n",
              "0              1140  \n",
              "1              2331  \n",
              "2              1482  \n",
              "3              5687  \n",
              "4               765  "
            ],
            "text/html": [
              "\n",
              "\n",
              "  <div id=\"df-6bf4d4e7-c5b1-4550-8c12-f1fdc166f2ed\">\n",
              "    <div class=\"colab-df-container\">\n",
              "      <div>\n",
              "<style scoped>\n",
              "    .dataframe tbody tr th:only-of-type {\n",
              "        vertical-align: middle;\n",
              "    }\n",
              "\n",
              "    .dataframe tbody tr th {\n",
              "        vertical-align: top;\n",
              "    }\n",
              "\n",
              "    .dataframe thead th {\n",
              "        text-align: right;\n",
              "    }\n",
              "</style>\n",
              "<table border=\"1\" class=\"dataframe\">\n",
              "  <thead>\n",
              "    <tr style=\"text-align: right;\">\n",
              "      <th></th>\n",
              "      <th>Regional Descriptors</th>\n",
              "      <th>Agr Wage Farm Workers Allgender 2015</th>\n",
              "      <th>Agr Wage Farm Workers Male 2015</th>\n",
              "      <th>Agr Wage Farm Workers Female 2015</th>\n",
              "      <th>Avg Annual Total Incm Farm Households 02 03</th>\n",
              "      <th>Avg Annual Farm Incm Farm Households 02 03</th>\n",
              "      <th>Avg Annual Off Farm Incm Farm Households 02 03</th>\n",
              "      <th>Avg Annual Non Farm Incm Farm Households 02 03</th>\n",
              "      <th>Avg Annual Other Sources Incm Farm Households 02 03</th>\n",
              "      <th>Avg Rural Income 2000</th>\n",
              "      <th>Total Emply 2016</th>\n",
              "    </tr>\n",
              "  </thead>\n",
              "  <tbody>\n",
              "    <tr>\n",
              "      <th>0</th>\n",
              "      <td>Armm</td>\n",
              "      <td>162.89</td>\n",
              "      <td>163.65</td>\n",
              "      <td>103.81</td>\n",
              "      <td>73356</td>\n",
              "      <td>34026</td>\n",
              "      <td>5737</td>\n",
              "      <td>24936</td>\n",
              "      <td>8657</td>\n",
              "      <td>73673.0</td>\n",
              "      <td>1140</td>\n",
              "    </tr>\n",
              "    <tr>\n",
              "      <th>1</th>\n",
              "      <td>Bicol Region</td>\n",
              "      <td>167.99</td>\n",
              "      <td>169.95</td>\n",
              "      <td>119.52</td>\n",
              "      <td>82988</td>\n",
              "      <td>36579</td>\n",
              "      <td>7348</td>\n",
              "      <td>30381</td>\n",
              "      <td>8680</td>\n",
              "      <td>72626.0</td>\n",
              "      <td>2331</td>\n",
              "    </tr>\n",
              "    <tr>\n",
              "      <th>2</th>\n",
              "      <td>Cagayan Valley</td>\n",
              "      <td>228.77</td>\n",
              "      <td>232.64</td>\n",
              "      <td>199.98</td>\n",
              "      <td>145809</td>\n",
              "      <td>87353</td>\n",
              "      <td>6909</td>\n",
              "      <td>39894</td>\n",
              "      <td>11653</td>\n",
              "      <td>94212.0</td>\n",
              "      <td>1482</td>\n",
              "    </tr>\n",
              "    <tr>\n",
              "      <th>3</th>\n",
              "      <td>Calabarzon</td>\n",
              "      <td>230.92</td>\n",
              "      <td>231.45</td>\n",
              "      <td>172.04</td>\n",
              "      <td>143075</td>\n",
              "      <td>64498</td>\n",
              "      <td>8444</td>\n",
              "      <td>48590</td>\n",
              "      <td>21543</td>\n",
              "      <td>NaN</td>\n",
              "      <td>5687</td>\n",
              "    </tr>\n",
              "    <tr>\n",
              "      <th>4</th>\n",
              "      <td>Car</td>\n",
              "      <td>206.68</td>\n",
              "      <td>211.04</td>\n",
              "      <td>195.62</td>\n",
              "      <td>127067</td>\n",
              "      <td>71142</td>\n",
              "      <td>9731</td>\n",
              "      <td>37178</td>\n",
              "      <td>9016</td>\n",
              "      <td>95635.0</td>\n",
              "      <td>765</td>\n",
              "    </tr>\n",
              "  </tbody>\n",
              "</table>\n",
              "</div>\n",
              "      <button class=\"colab-df-convert\" onclick=\"convertToInteractive('df-6bf4d4e7-c5b1-4550-8c12-f1fdc166f2ed')\"\n",
              "              title=\"Convert this dataframe to an interactive table.\"\n",
              "              style=\"display:none;\">\n",
              "\n",
              "  <svg xmlns=\"http://www.w3.org/2000/svg\" height=\"24px\"viewBox=\"0 0 24 24\"\n",
              "       width=\"24px\">\n",
              "    <path d=\"M0 0h24v24H0V0z\" fill=\"none\"/>\n",
              "    <path d=\"M18.56 5.44l.94 2.06.94-2.06 2.06-.94-2.06-.94-.94-2.06-.94 2.06-2.06.94zm-11 1L8.5 8.5l.94-2.06 2.06-.94-2.06-.94L8.5 2.5l-.94 2.06-2.06.94zm10 10l.94 2.06.94-2.06 2.06-.94-2.06-.94-.94-2.06-.94 2.06-2.06.94z\"/><path d=\"M17.41 7.96l-1.37-1.37c-.4-.4-.92-.59-1.43-.59-.52 0-1.04.2-1.43.59L10.3 9.45l-7.72 7.72c-.78.78-.78 2.05 0 2.83L4 21.41c.39.39.9.59 1.41.59.51 0 1.02-.2 1.41-.59l7.78-7.78 2.81-2.81c.8-.78.8-2.07 0-2.86zM5.41 20L4 18.59l7.72-7.72 1.47 1.35L5.41 20z\"/>\n",
              "  </svg>\n",
              "      </button>\n",
              "\n",
              "\n",
              "\n",
              "    <div id=\"df-fe428e19-37e1-435d-a3af-6273105c3e19\">\n",
              "      <button class=\"colab-df-quickchart\" onclick=\"quickchart('df-fe428e19-37e1-435d-a3af-6273105c3e19')\"\n",
              "              title=\"Suggest charts.\"\n",
              "              style=\"display:none;\">\n",
              "\n",
              "<svg xmlns=\"http://www.w3.org/2000/svg\" height=\"24px\"viewBox=\"0 0 24 24\"\n",
              "     width=\"24px\">\n",
              "    <g>\n",
              "        <path d=\"M19 3H5c-1.1 0-2 .9-2 2v14c0 1.1.9 2 2 2h14c1.1 0 2-.9 2-2V5c0-1.1-.9-2-2-2zM9 17H7v-7h2v7zm4 0h-2V7h2v10zm4 0h-2v-4h2v4z\"/>\n",
              "    </g>\n",
              "</svg>\n",
              "      </button>\n",
              "    </div>\n",
              "\n",
              "<style>\n",
              "  .colab-df-quickchart {\n",
              "    background-color: #E8F0FE;\n",
              "    border: none;\n",
              "    border-radius: 50%;\n",
              "    cursor: pointer;\n",
              "    display: none;\n",
              "    fill: #1967D2;\n",
              "    height: 32px;\n",
              "    padding: 0 0 0 0;\n",
              "    width: 32px;\n",
              "  }\n",
              "\n",
              "  .colab-df-quickchart:hover {\n",
              "    background-color: #E2EBFA;\n",
              "    box-shadow: 0px 1px 2px rgba(60, 64, 67, 0.3), 0px 1px 3px 1px rgba(60, 64, 67, 0.15);\n",
              "    fill: #174EA6;\n",
              "  }\n",
              "\n",
              "  [theme=dark] .colab-df-quickchart {\n",
              "    background-color: #3B4455;\n",
              "    fill: #D2E3FC;\n",
              "  }\n",
              "\n",
              "  [theme=dark] .colab-df-quickchart:hover {\n",
              "    background-color: #434B5C;\n",
              "    box-shadow: 0px 1px 3px 1px rgba(0, 0, 0, 0.15);\n",
              "    filter: drop-shadow(0px 1px 2px rgba(0, 0, 0, 0.3));\n",
              "    fill: #FFFFFF;\n",
              "  }\n",
              "</style>\n",
              "\n",
              "    <script>\n",
              "      async function quickchart(key) {\n",
              "        const containerElement = document.querySelector('#' + key);\n",
              "        const charts = await google.colab.kernel.invokeFunction(\n",
              "            'suggestCharts', [key], {});\n",
              "      }\n",
              "    </script>\n",
              "\n",
              "      <script>\n",
              "\n",
              "function displayQuickchartButton(domScope) {\n",
              "  let quickchartButtonEl =\n",
              "    domScope.querySelector('#df-fe428e19-37e1-435d-a3af-6273105c3e19 button.colab-df-quickchart');\n",
              "  quickchartButtonEl.style.display =\n",
              "    google.colab.kernel.accessAllowed ? 'block' : 'none';\n",
              "}\n",
              "\n",
              "        displayQuickchartButton(document);\n",
              "      </script>\n",
              "      <style>\n",
              "    .colab-df-container {\n",
              "      display:flex;\n",
              "      flex-wrap:wrap;\n",
              "      gap: 12px;\n",
              "    }\n",
              "\n",
              "    .colab-df-convert {\n",
              "      background-color: #E8F0FE;\n",
              "      border: none;\n",
              "      border-radius: 50%;\n",
              "      cursor: pointer;\n",
              "      display: none;\n",
              "      fill: #1967D2;\n",
              "      height: 32px;\n",
              "      padding: 0 0 0 0;\n",
              "      width: 32px;\n",
              "    }\n",
              "\n",
              "    .colab-df-convert:hover {\n",
              "      background-color: #E2EBFA;\n",
              "      box-shadow: 0px 1px 2px rgba(60, 64, 67, 0.3), 0px 1px 3px 1px rgba(60, 64, 67, 0.15);\n",
              "      fill: #174EA6;\n",
              "    }\n",
              "\n",
              "    [theme=dark] .colab-df-convert {\n",
              "      background-color: #3B4455;\n",
              "      fill: #D2E3FC;\n",
              "    }\n",
              "\n",
              "    [theme=dark] .colab-df-convert:hover {\n",
              "      background-color: #434B5C;\n",
              "      box-shadow: 0px 1px 3px 1px rgba(0, 0, 0, 0.15);\n",
              "      filter: drop-shadow(0px 1px 2px rgba(0, 0, 0, 0.3));\n",
              "      fill: #FFFFFF;\n",
              "    }\n",
              "  </style>\n",
              "\n",
              "      <script>\n",
              "        const buttonEl =\n",
              "          document.querySelector('#df-6bf4d4e7-c5b1-4550-8c12-f1fdc166f2ed button.colab-df-convert');\n",
              "        buttonEl.style.display =\n",
              "          google.colab.kernel.accessAllowed ? 'block' : 'none';\n",
              "\n",
              "        async function convertToInteractive(key) {\n",
              "          const element = document.querySelector('#df-6bf4d4e7-c5b1-4550-8c12-f1fdc166f2ed');\n",
              "          const dataTable =\n",
              "            await google.colab.kernel.invokeFunction('convertToInteractive',\n",
              "                                                     [key], {});\n",
              "          if (!dataTable) return;\n",
              "\n",
              "          const docLinkHtml = 'Like what you see? Visit the ' +\n",
              "            '<a target=\"_blank\" href=https://colab.research.google.com/notebooks/data_table.ipynb>data table notebook</a>'\n",
              "            + ' to learn more about interactive tables.';\n",
              "          element.innerHTML = '';\n",
              "          dataTable['output_type'] = 'display_data';\n",
              "          await google.colab.output.renderOutput(dataTable, element);\n",
              "          const docLink = document.createElement('div');\n",
              "          docLink.innerHTML = docLinkHtml;\n",
              "          element.appendChild(docLink);\n",
              "        }\n",
              "      </script>\n",
              "    </div>\n",
              "  </div>\n"
            ]
          },
          "metadata": {},
          "execution_count": 2
        }
      ]
    },
    {
      "cell_type": "markdown",
      "source": [
        "# Exploring the Data **(EDA)**"
      ],
      "metadata": {
        "id": "IS9iJ_H06YDZ"
      }
    },
    {
      "cell_type": "code",
      "source": [
        "# overview of the dataset\n",
        "df.info()"
      ],
      "metadata": {
        "colab": {
          "base_uri": "https://localhost:8080/"
        },
        "id": "m_CY7nXIT0yI",
        "outputId": "93400286-3b91-4f98-961a-8ef891728a05"
      },
      "execution_count": null,
      "outputs": [
        {
          "output_type": "stream",
          "name": "stdout",
          "text": [
            "<class 'pandas.core.frame.DataFrame'>\n",
            "RangeIndex: 16 entries, 0 to 15\n",
            "Data columns (total 11 columns):\n",
            " #   Column                                               Non-Null Count  Dtype  \n",
            "---  ------                                               --------------  -----  \n",
            " 0   Regional Descriptors                                 16 non-null     object \n",
            " 1   Agr Wage Farm Workers Allgender 2015                 16 non-null     float64\n",
            " 2   Agr Wage Farm Workers Male 2015                      16 non-null     float64\n",
            " 3   Agr Wage Farm Workers Female 2015                    16 non-null     float64\n",
            " 4   Avg Annual Total Incm Farm Households 02 03          16 non-null     int64  \n",
            " 5   Avg Annual Farm Incm Farm Households 02 03           16 non-null     int64  \n",
            " 6   Avg Annual Off Farm Incm Farm Households 02 03       16 non-null     int64  \n",
            " 7   Avg Annual Non Farm Incm Farm Households 02 03       16 non-null     int64  \n",
            " 8   Avg Annual Other Sources Incm Farm Households 02 03  16 non-null     int64  \n",
            " 9   Avg Rural Income 2000                                14 non-null     float64\n",
            " 10  Total Emply 2016                                     16 non-null     int64  \n",
            "dtypes: float64(4), int64(6), object(1)\n",
            "memory usage: 1.5+ KB\n"
          ]
        }
      ]
    },
    {
      "cell_type": "code",
      "source": [
        "# checking the statistics\n",
        "df.describe()"
      ],
      "metadata": {
        "id": "tlSxL_yGcrB5",
        "colab": {
          "base_uri": "https://localhost:8080/"
        },
        "outputId": "97e8be55-1eca-4f9b-dbe1-736ee051f273"
      },
      "execution_count": null,
      "outputs": [
        {
          "output_type": "execute_result",
          "data": {
            "text/plain": [
              "       Agr Wage Farm Workers Allgender 2015  Agr Wage Farm Workers Male 2015  \\\n",
              "count                             16.000000                        16.000000   \n",
              "mean                             187.784375                       189.839375   \n",
              "std                               34.052310                        34.086908   \n",
              "min                              156.170000                       158.550000   \n",
              "25%                              161.947500                       162.900000   \n",
              "50%                              168.335000                       169.890000   \n",
              "75%                              212.202500                       216.142500   \n",
              "max                              257.970000                       259.040000   \n",
              "\n",
              "       Agr Wage Farm Workers Female 2015  \\\n",
              "count                          16.000000   \n",
              "mean                          162.208125   \n",
              "std                            31.250705   \n",
              "min                           103.810000   \n",
              "25%                           151.210000   \n",
              "50%                           159.025000   \n",
              "75%                           189.740000   \n",
              "max                           204.730000   \n",
              "\n",
              "       Avg Annual Total Incm Farm Households 02 03  \\\n",
              "count                                    16.000000   \n",
              "mean                                 107012.625000   \n",
              "std                                   28907.450663   \n",
              "min                                   72177.000000   \n",
              "25%                                   82452.000000   \n",
              "50%                                  100500.000000   \n",
              "75%                                  128901.750000   \n",
              "max                                  158130.000000   \n",
              "\n",
              "       Avg Annual Farm Incm Farm Households 02 03  \\\n",
              "count                                   16.000000   \n",
              "mean                                 58346.562500   \n",
              "std                                  18920.636219   \n",
              "min                                  28074.000000   \n",
              "25%                                  45835.750000   \n",
              "50%                                  54069.500000   \n",
              "75%                                  72032.000000   \n",
              "max                                  87353.000000   \n",
              "\n",
              "       Avg Annual Off Farm Incm Farm Households 02 03  \\\n",
              "count                                       16.000000   \n",
              "mean                                      6864.062500   \n",
              "std                                       1915.653116   \n",
              "min                                       4256.000000   \n",
              "25%                                       5701.000000   \n",
              "50%                                       6326.000000   \n",
              "75%                                       7622.000000   \n",
              "max                                      11118.000000   \n",
              "\n",
              "       Avg Annual Non Farm Incm Farm Households 02 03  \\\n",
              "count                                       16.000000   \n",
              "mean                                     31323.750000   \n",
              "std                                      10214.735412   \n",
              "min                                      13892.000000   \n",
              "25%                                      23678.750000   \n",
              "50%                                      32243.000000   \n",
              "75%                                      36335.000000   \n",
              "max                                      50413.000000   \n",
              "\n",
              "       Avg Annual Other Sources Incm Farm Households 02 03  \\\n",
              "count                                          16.000000     \n",
              "mean                                        10478.250000     \n",
              "std                                          6118.979822     \n",
              "min                                          4776.000000     \n",
              "25%                                          6756.250000     \n",
              "50%                                          8845.500000     \n",
              "75%                                         10537.000000     \n",
              "max                                         26681.000000     \n",
              "\n",
              "       Avg Rural Income 2000  Total Emply 2016  \n",
              "count              14.000000         16.000000  \n",
              "mean            81004.500000       2233.750000  \n",
              "std             17673.766625       1306.409201  \n",
              "min             63574.000000        765.000000  \n",
              "25%             69491.750000       1424.500000  \n",
              "50%             73819.500000       1921.000000  \n",
              "75%             90654.750000       2550.250000  \n",
              "max            125626.000000       5687.000000  "
            ],
            "text/html": [
              "\n",
              "\n",
              "  <div id=\"df-4a3ef7eb-3691-47e0-bd93-7ac8ae980fd4\">\n",
              "    <div class=\"colab-df-container\">\n",
              "      <div>\n",
              "<style scoped>\n",
              "    .dataframe tbody tr th:only-of-type {\n",
              "        vertical-align: middle;\n",
              "    }\n",
              "\n",
              "    .dataframe tbody tr th {\n",
              "        vertical-align: top;\n",
              "    }\n",
              "\n",
              "    .dataframe thead th {\n",
              "        text-align: right;\n",
              "    }\n",
              "</style>\n",
              "<table border=\"1\" class=\"dataframe\">\n",
              "  <thead>\n",
              "    <tr style=\"text-align: right;\">\n",
              "      <th></th>\n",
              "      <th>Agr Wage Farm Workers Allgender 2015</th>\n",
              "      <th>Agr Wage Farm Workers Male 2015</th>\n",
              "      <th>Agr Wage Farm Workers Female 2015</th>\n",
              "      <th>Avg Annual Total Incm Farm Households 02 03</th>\n",
              "      <th>Avg Annual Farm Incm Farm Households 02 03</th>\n",
              "      <th>Avg Annual Off Farm Incm Farm Households 02 03</th>\n",
              "      <th>Avg Annual Non Farm Incm Farm Households 02 03</th>\n",
              "      <th>Avg Annual Other Sources Incm Farm Households 02 03</th>\n",
              "      <th>Avg Rural Income 2000</th>\n",
              "      <th>Total Emply 2016</th>\n",
              "    </tr>\n",
              "  </thead>\n",
              "  <tbody>\n",
              "    <tr>\n",
              "      <th>count</th>\n",
              "      <td>16.000000</td>\n",
              "      <td>16.000000</td>\n",
              "      <td>16.000000</td>\n",
              "      <td>16.000000</td>\n",
              "      <td>16.000000</td>\n",
              "      <td>16.000000</td>\n",
              "      <td>16.000000</td>\n",
              "      <td>16.000000</td>\n",
              "      <td>14.000000</td>\n",
              "      <td>16.000000</td>\n",
              "    </tr>\n",
              "    <tr>\n",
              "      <th>mean</th>\n",
              "      <td>187.784375</td>\n",
              "      <td>189.839375</td>\n",
              "      <td>162.208125</td>\n",
              "      <td>107012.625000</td>\n",
              "      <td>58346.562500</td>\n",
              "      <td>6864.062500</td>\n",
              "      <td>31323.750000</td>\n",
              "      <td>10478.250000</td>\n",
              "      <td>81004.500000</td>\n",
              "      <td>2233.750000</td>\n",
              "    </tr>\n",
              "    <tr>\n",
              "      <th>std</th>\n",
              "      <td>34.052310</td>\n",
              "      <td>34.086908</td>\n",
              "      <td>31.250705</td>\n",
              "      <td>28907.450663</td>\n",
              "      <td>18920.636219</td>\n",
              "      <td>1915.653116</td>\n",
              "      <td>10214.735412</td>\n",
              "      <td>6118.979822</td>\n",
              "      <td>17673.766625</td>\n",
              "      <td>1306.409201</td>\n",
              "    </tr>\n",
              "    <tr>\n",
              "      <th>min</th>\n",
              "      <td>156.170000</td>\n",
              "      <td>158.550000</td>\n",
              "      <td>103.810000</td>\n",
              "      <td>72177.000000</td>\n",
              "      <td>28074.000000</td>\n",
              "      <td>4256.000000</td>\n",
              "      <td>13892.000000</td>\n",
              "      <td>4776.000000</td>\n",
              "      <td>63574.000000</td>\n",
              "      <td>765.000000</td>\n",
              "    </tr>\n",
              "    <tr>\n",
              "      <th>25%</th>\n",
              "      <td>161.947500</td>\n",
              "      <td>162.900000</td>\n",
              "      <td>151.210000</td>\n",
              "      <td>82452.000000</td>\n",
              "      <td>45835.750000</td>\n",
              "      <td>5701.000000</td>\n",
              "      <td>23678.750000</td>\n",
              "      <td>6756.250000</td>\n",
              "      <td>69491.750000</td>\n",
              "      <td>1424.500000</td>\n",
              "    </tr>\n",
              "    <tr>\n",
              "      <th>50%</th>\n",
              "      <td>168.335000</td>\n",
              "      <td>169.890000</td>\n",
              "      <td>159.025000</td>\n",
              "      <td>100500.000000</td>\n",
              "      <td>54069.500000</td>\n",
              "      <td>6326.000000</td>\n",
              "      <td>32243.000000</td>\n",
              "      <td>8845.500000</td>\n",
              "      <td>73819.500000</td>\n",
              "      <td>1921.000000</td>\n",
              "    </tr>\n",
              "    <tr>\n",
              "      <th>75%</th>\n",
              "      <td>212.202500</td>\n",
              "      <td>216.142500</td>\n",
              "      <td>189.740000</td>\n",
              "      <td>128901.750000</td>\n",
              "      <td>72032.000000</td>\n",
              "      <td>7622.000000</td>\n",
              "      <td>36335.000000</td>\n",
              "      <td>10537.000000</td>\n",
              "      <td>90654.750000</td>\n",
              "      <td>2550.250000</td>\n",
              "    </tr>\n",
              "    <tr>\n",
              "      <th>max</th>\n",
              "      <td>257.970000</td>\n",
              "      <td>259.040000</td>\n",
              "      <td>204.730000</td>\n",
              "      <td>158130.000000</td>\n",
              "      <td>87353.000000</td>\n",
              "      <td>11118.000000</td>\n",
              "      <td>50413.000000</td>\n",
              "      <td>26681.000000</td>\n",
              "      <td>125626.000000</td>\n",
              "      <td>5687.000000</td>\n",
              "    </tr>\n",
              "  </tbody>\n",
              "</table>\n",
              "</div>\n",
              "      <button class=\"colab-df-convert\" onclick=\"convertToInteractive('df-4a3ef7eb-3691-47e0-bd93-7ac8ae980fd4')\"\n",
              "              title=\"Convert this dataframe to an interactive table.\"\n",
              "              style=\"display:none;\">\n",
              "\n",
              "  <svg xmlns=\"http://www.w3.org/2000/svg\" height=\"24px\"viewBox=\"0 0 24 24\"\n",
              "       width=\"24px\">\n",
              "    <path d=\"M0 0h24v24H0V0z\" fill=\"none\"/>\n",
              "    <path d=\"M18.56 5.44l.94 2.06.94-2.06 2.06-.94-2.06-.94-.94-2.06-.94 2.06-2.06.94zm-11 1L8.5 8.5l.94-2.06 2.06-.94-2.06-.94L8.5 2.5l-.94 2.06-2.06.94zm10 10l.94 2.06.94-2.06 2.06-.94-2.06-.94-.94-2.06-.94 2.06-2.06.94z\"/><path d=\"M17.41 7.96l-1.37-1.37c-.4-.4-.92-.59-1.43-.59-.52 0-1.04.2-1.43.59L10.3 9.45l-7.72 7.72c-.78.78-.78 2.05 0 2.83L4 21.41c.39.39.9.59 1.41.59.51 0 1.02-.2 1.41-.59l7.78-7.78 2.81-2.81c.8-.78.8-2.07 0-2.86zM5.41 20L4 18.59l7.72-7.72 1.47 1.35L5.41 20z\"/>\n",
              "  </svg>\n",
              "      </button>\n",
              "\n",
              "\n",
              "\n",
              "    <div id=\"df-fffe268c-6c77-4ecc-b8df-e30159944435\">\n",
              "      <button class=\"colab-df-quickchart\" onclick=\"quickchart('df-fffe268c-6c77-4ecc-b8df-e30159944435')\"\n",
              "              title=\"Suggest charts.\"\n",
              "              style=\"display:none;\">\n",
              "\n",
              "<svg xmlns=\"http://www.w3.org/2000/svg\" height=\"24px\"viewBox=\"0 0 24 24\"\n",
              "     width=\"24px\">\n",
              "    <g>\n",
              "        <path d=\"M19 3H5c-1.1 0-2 .9-2 2v14c0 1.1.9 2 2 2h14c1.1 0 2-.9 2-2V5c0-1.1-.9-2-2-2zM9 17H7v-7h2v7zm4 0h-2V7h2v10zm4 0h-2v-4h2v4z\"/>\n",
              "    </g>\n",
              "</svg>\n",
              "      </button>\n",
              "    </div>\n",
              "\n",
              "<style>\n",
              "  .colab-df-quickchart {\n",
              "    background-color: #E8F0FE;\n",
              "    border: none;\n",
              "    border-radius: 50%;\n",
              "    cursor: pointer;\n",
              "    display: none;\n",
              "    fill: #1967D2;\n",
              "    height: 32px;\n",
              "    padding: 0 0 0 0;\n",
              "    width: 32px;\n",
              "  }\n",
              "\n",
              "  .colab-df-quickchart:hover {\n",
              "    background-color: #E2EBFA;\n",
              "    box-shadow: 0px 1px 2px rgba(60, 64, 67, 0.3), 0px 1px 3px 1px rgba(60, 64, 67, 0.15);\n",
              "    fill: #174EA6;\n",
              "  }\n",
              "\n",
              "  [theme=dark] .colab-df-quickchart {\n",
              "    background-color: #3B4455;\n",
              "    fill: #D2E3FC;\n",
              "  }\n",
              "\n",
              "  [theme=dark] .colab-df-quickchart:hover {\n",
              "    background-color: #434B5C;\n",
              "    box-shadow: 0px 1px 3px 1px rgba(0, 0, 0, 0.15);\n",
              "    filter: drop-shadow(0px 1px 2px rgba(0, 0, 0, 0.3));\n",
              "    fill: #FFFFFF;\n",
              "  }\n",
              "</style>\n",
              "\n",
              "    <script>\n",
              "      async function quickchart(key) {\n",
              "        const containerElement = document.querySelector('#' + key);\n",
              "        const charts = await google.colab.kernel.invokeFunction(\n",
              "            'suggestCharts', [key], {});\n",
              "      }\n",
              "    </script>\n",
              "\n",
              "      <script>\n",
              "\n",
              "function displayQuickchartButton(domScope) {\n",
              "  let quickchartButtonEl =\n",
              "    domScope.querySelector('#df-fffe268c-6c77-4ecc-b8df-e30159944435 button.colab-df-quickchart');\n",
              "  quickchartButtonEl.style.display =\n",
              "    google.colab.kernel.accessAllowed ? 'block' : 'none';\n",
              "}\n",
              "\n",
              "        displayQuickchartButton(document);\n",
              "      </script>\n",
              "      <style>\n",
              "    .colab-df-container {\n",
              "      display:flex;\n",
              "      flex-wrap:wrap;\n",
              "      gap: 12px;\n",
              "    }\n",
              "\n",
              "    .colab-df-convert {\n",
              "      background-color: #E8F0FE;\n",
              "      border: none;\n",
              "      border-radius: 50%;\n",
              "      cursor: pointer;\n",
              "      display: none;\n",
              "      fill: #1967D2;\n",
              "      height: 32px;\n",
              "      padding: 0 0 0 0;\n",
              "      width: 32px;\n",
              "    }\n",
              "\n",
              "    .colab-df-convert:hover {\n",
              "      background-color: #E2EBFA;\n",
              "      box-shadow: 0px 1px 2px rgba(60, 64, 67, 0.3), 0px 1px 3px 1px rgba(60, 64, 67, 0.15);\n",
              "      fill: #174EA6;\n",
              "    }\n",
              "\n",
              "    [theme=dark] .colab-df-convert {\n",
              "      background-color: #3B4455;\n",
              "      fill: #D2E3FC;\n",
              "    }\n",
              "\n",
              "    [theme=dark] .colab-df-convert:hover {\n",
              "      background-color: #434B5C;\n",
              "      box-shadow: 0px 1px 3px 1px rgba(0, 0, 0, 0.15);\n",
              "      filter: drop-shadow(0px 1px 2px rgba(0, 0, 0, 0.3));\n",
              "      fill: #FFFFFF;\n",
              "    }\n",
              "  </style>\n",
              "\n",
              "      <script>\n",
              "        const buttonEl =\n",
              "          document.querySelector('#df-4a3ef7eb-3691-47e0-bd93-7ac8ae980fd4 button.colab-df-convert');\n",
              "        buttonEl.style.display =\n",
              "          google.colab.kernel.accessAllowed ? 'block' : 'none';\n",
              "\n",
              "        async function convertToInteractive(key) {\n",
              "          const element = document.querySelector('#df-4a3ef7eb-3691-47e0-bd93-7ac8ae980fd4');\n",
              "          const dataTable =\n",
              "            await google.colab.kernel.invokeFunction('convertToInteractive',\n",
              "                                                     [key], {});\n",
              "          if (!dataTable) return;\n",
              "\n",
              "          const docLinkHtml = 'Like what you see? Visit the ' +\n",
              "            '<a target=\"_blank\" href=https://colab.research.google.com/notebooks/data_table.ipynb>data table notebook</a>'\n",
              "            + ' to learn more about interactive tables.';\n",
              "          element.innerHTML = '';\n",
              "          dataTable['output_type'] = 'display_data';\n",
              "          await google.colab.output.renderOutput(dataTable, element);\n",
              "          const docLink = document.createElement('div');\n",
              "          docLink.innerHTML = docLinkHtml;\n",
              "          element.appendChild(docLink);\n",
              "        }\n",
              "      </script>\n",
              "    </div>\n",
              "  </div>\n"
            ]
          },
          "metadata": {},
          "execution_count": 4
        }
      ]
    },
    {
      "cell_type": "code",
      "source": [
        "# finding the size of the dataframe\n",
        "df.shape"
      ],
      "metadata": {
        "colab": {
          "base_uri": "https://localhost:8080/"
        },
        "id": "sjyscf1OdEId",
        "outputId": "10490913-6a1b-4a3b-daa7-ab874adddd50"
      },
      "execution_count": null,
      "outputs": [
        {
          "output_type": "execute_result",
          "data": {
            "text/plain": [
              "(16, 11)"
            ]
          },
          "metadata": {},
          "execution_count": 5
        }
      ]
    },
    {
      "cell_type": "code",
      "source": [
        "# checking for empty values\n",
        "df.isna().sum()"
      ],
      "metadata": {
        "colab": {
          "base_uri": "https://localhost:8080/"
        },
        "id": "I-kiHgXgdIVb",
        "outputId": "15b20716-3abc-42c1-dc13-6da538e8c626"
      },
      "execution_count": null,
      "outputs": [
        {
          "output_type": "execute_result",
          "data": {
            "text/plain": [
              "Regional Descriptors                                   0\n",
              "Agr Wage Farm Workers Allgender 2015                   0\n",
              "Agr Wage Farm Workers Male 2015                        0\n",
              "Agr Wage Farm Workers Female 2015                      0\n",
              "Avg Annual Total Incm Farm Households 02 03            0\n",
              "Avg Annual Farm Incm Farm Households 02 03             0\n",
              "Avg Annual Off Farm Incm Farm Households 02 03         0\n",
              "Avg Annual Non Farm Incm Farm Households 02 03         0\n",
              "Avg Annual Other Sources Incm Farm Households 02 03    0\n",
              "Avg Rural Income 2000                                  2\n",
              "Total Emply 2016                                       0\n",
              "dtype: int64"
            ]
          },
          "metadata": {},
          "execution_count": 6
        }
      ]
    },
    {
      "cell_type": "code",
      "source": [
        "df.notnull().sum()"
      ],
      "metadata": {
        "colab": {
          "base_uri": "https://localhost:8080/"
        },
        "id": "XiNBhjpLBiWM",
        "outputId": "0103841e-1195-4a60-f8a1-177da6b8f245"
      },
      "execution_count": null,
      "outputs": [
        {
          "output_type": "execute_result",
          "data": {
            "text/plain": [
              "Regional Descriptors                                   16\n",
              "Agr Wage Farm Workers Allgender 2015                   16\n",
              "Agr Wage Farm Workers Male 2015                        16\n",
              "Agr Wage Farm Workers Female 2015                      16\n",
              "Avg Annual Total Incm Farm Households 02 03            16\n",
              "Avg Annual Farm Incm Farm Households 02 03             16\n",
              "Avg Annual Off Farm Incm Farm Households 02 03         16\n",
              "Avg Annual Non Farm Incm Farm Households 02 03         16\n",
              "Avg Annual Other Sources Incm Farm Households 02 03    16\n",
              "Avg Rural Income 2000                                  14\n",
              "Total Emply 2016                                       16\n",
              "dtype: int64"
            ]
          },
          "metadata": {},
          "execution_count": 7
        }
      ]
    },
    {
      "cell_type": "code",
      "source": [
        "# checking for empty values\n",
        "df.isna().sum()"
      ],
      "metadata": {
        "colab": {
          "base_uri": "https://localhost:8080/"
        },
        "outputId": "8e3002f3-be4d-48b7-ebbf-d0b67ef82ff3",
        "id": "HUSgTRvl1tvm"
      },
      "execution_count": null,
      "outputs": [
        {
          "output_type": "execute_result",
          "data": {
            "text/plain": [
              "Regional Descriptors                                   0\n",
              "Agr Wage Farm Workers Allgender 2015                   0\n",
              "Agr Wage Farm Workers Male 2015                        0\n",
              "Agr Wage Farm Workers Female 2015                      0\n",
              "Avg Annual Total Incm Farm Households 02 03            0\n",
              "Avg Annual Farm Incm Farm Households 02 03             0\n",
              "Avg Annual Off Farm Incm Farm Households 02 03         0\n",
              "Avg Annual Non Farm Incm Farm Households 02 03         0\n",
              "Avg Annual Other Sources Incm Farm Households 02 03    0\n",
              "Avg Rural Income 2000                                  2\n",
              "Total Emply 2016                                       0\n",
              "dtype: int64"
            ]
          },
          "metadata": {},
          "execution_count": 8
        }
      ]
    },
    {
      "cell_type": "code",
      "source": [
        "# checking for any duplicated values\n",
        "df.duplicated().sum()"
      ],
      "metadata": {
        "colab": {
          "base_uri": "https://localhost:8080/"
        },
        "id": "lJMGJK4WdWB9",
        "outputId": "2197e630-6b84-46da-9a68-299524f7c466"
      },
      "execution_count": null,
      "outputs": [
        {
          "output_type": "execute_result",
          "data": {
            "text/plain": [
              "0"
            ]
          },
          "metadata": {},
          "execution_count": 9
        }
      ]
    },
    {
      "cell_type": "code",
      "source": [
        "# checking the values of the object columns\n",
        "dtypes = df.dtypes\n",
        "\n",
        "obj_cols = dtypes[dtypes == 'object'].index\n",
        "\n",
        "obj_cols"
      ],
      "metadata": {
        "colab": {
          "base_uri": "https://localhost:8080/"
        },
        "id": "zSfi_HqgwrrX",
        "outputId": "e56c4d6b-b319-4b75-9768-a90e303ffbe8"
      },
      "execution_count": null,
      "outputs": [
        {
          "output_type": "execute_result",
          "data": {
            "text/plain": [
              "Index(['Regional Descriptors'], dtype='object')"
            ]
          },
          "metadata": {},
          "execution_count": 10
        }
      ]
    },
    {
      "cell_type": "code",
      "source": [
        "# checking the values of the integer column\n",
        "dtypes = df.dtypes\n",
        "\n",
        "int_cols = dtypes[dtypes == 'int'].index\n",
        "\n",
        "int_cols"
      ],
      "metadata": {
        "colab": {
          "base_uri": "https://localhost:8080/"
        },
        "id": "UOCinZo_w9aj",
        "outputId": "9488458c-20eb-4df0-a906-759081fb5b4e"
      },
      "execution_count": null,
      "outputs": [
        {
          "output_type": "execute_result",
          "data": {
            "text/plain": [
              "Index(['Avg Annual Total Incm Farm Households 02 03',\n",
              "       'Avg Annual Farm Incm Farm Households 02 03',\n",
              "       'Avg Annual Off Farm Incm Farm Households 02 03',\n",
              "       'Avg Annual Non Farm Incm Farm Households 02 03',\n",
              "       'Avg Annual Other Sources Incm Farm Households 02 03',\n",
              "       'Total Emply 2016'],\n",
              "      dtype='object')"
            ]
          },
          "metadata": {},
          "execution_count": 11
        }
      ]
    },
    {
      "cell_type": "code",
      "source": [
        "# checking the values of the float column\n",
        "dtypes = df.dtypes\n",
        "\n",
        "flt_cols = dtypes[dtypes == 'float'].index\n",
        "\n",
        "flt_cols"
      ],
      "metadata": {
        "colab": {
          "base_uri": "https://localhost:8080/"
        },
        "id": "Ru0ppoiG3yaR",
        "outputId": "07802f28-aa54-4b4e-f3d5-730a5356e886"
      },
      "execution_count": null,
      "outputs": [
        {
          "output_type": "execute_result",
          "data": {
            "text/plain": [
              "Index(['Agr Wage Farm Workers Allgender 2015',\n",
              "       'Agr Wage Farm Workers Male 2015', 'Agr Wage Farm Workers Female 2015',\n",
              "       'Avg Rural Income 2000'],\n",
              "      dtype='object')"
            ]
          },
          "metadata": {},
          "execution_count": 12
        }
      ]
    },
    {
      "cell_type": "code",
      "source": [
        "# return values for the average rural income\n",
        "for col in flt_cols:\n",
        "  print(f\"Column: {col}\")\n",
        "  print(df[col].value_counts(dropna = False))\n",
        "  print(\"\\n\")"
      ],
      "metadata": {
        "colab": {
          "base_uri": "https://localhost:8080/"
        },
        "id": "7jenROmgxnca",
        "outputId": "f8bc123f-8d4a-46e4-9724-e36d27fcb2c0"
      },
      "execution_count": null,
      "outputs": [
        {
          "output_type": "stream",
          "name": "stdout",
          "text": [
            "Column: Agr Wage Farm Workers Allgender 2015\n",
            "162.89    1\n",
            "167.99    1\n",
            "228.77    1\n",
            "230.92    1\n",
            "206.68    1\n",
            "194.46    1\n",
            "257.97    1\n",
            "156.17    1\n",
            "168.68    1\n",
            "157.49    1\n",
            "237.26    1\n",
            "188.73    1\n",
            "159.12    1\n",
            "164.77    1\n",
            "165.28    1\n",
            "157.37    1\n",
            "Name: Agr Wage Farm Workers Allgender 2015, dtype: int64\n",
            "\n",
            "\n",
            "Column: Agr Wage Farm Workers Male 2015\n",
            "163.65    1\n",
            "169.95    1\n",
            "232.64    1\n",
            "231.45    1\n",
            "211.04    1\n",
            "195.44    1\n",
            "259.04    1\n",
            "160.65    1\n",
            "169.83    1\n",
            "159.25    1\n",
            "239.19    1\n",
            "192.16    1\n",
            "160.07    1\n",
            "166.75    1\n",
            "167.77    1\n",
            "158.55    1\n",
            "Name: Agr Wage Farm Workers Male 2015, dtype: int64\n",
            "\n",
            "\n",
            "Column: Agr Wage Farm Workers Female 2015\n",
            "103.81    1\n",
            "119.52    1\n",
            "199.98    1\n",
            "172.04    1\n",
            "195.62    1\n",
            "187.78    1\n",
            "204.73    1\n",
            "150.67    1\n",
            "158.91    1\n",
            "112.22    1\n",
            "199.04    1\n",
            "170.73    1\n",
            "151.39    1\n",
            "159.14    1\n",
            "156.96    1\n",
            "152.79    1\n",
            "Name: Agr Wage Farm Workers Female 2015, dtype: int64\n",
            "\n",
            "\n",
            "Column: Avg Rural Income 2000\n",
            "NaN         2\n",
            "73673.0     1\n",
            "72626.0     1\n",
            "94212.0     1\n",
            "95635.0     1\n",
            "63574.0     1\n",
            "125626.0    1\n",
            "68447.0     1\n",
            "79983.0     1\n",
            "68077.0     1\n",
            "103915.0    1\n",
            "73966.0     1\n",
            "73428.0     1\n",
            "76488.0     1\n",
            "64413.0     1\n",
            "Name: Avg Rural Income 2000, dtype: int64\n",
            "\n",
            "\n"
          ]
        }
      ]
    },
    {
      "cell_type": "markdown",
      "source": [
        "# **EDA Results**\n",
        "\n",
        "\n",
        "---\n",
        "\n",
        "*   No duplicated values\n",
        "*   Correct datatypes\n",
        "\n",
        "Problem encountered\n",
        "*   There are two(2) null values in the dataset, specifically in the \"Avg Rural Income 2000\" column.\n",
        "\n",
        "\n",
        "\n",
        "\n",
        "\n"
      ],
      "metadata": {
        "id": "SqnJPKqu31Yi"
      }
    },
    {
      "cell_type": "markdown",
      "source": [
        "## **Filling the null values**"
      ],
      "metadata": {
        "id": "lSBBT5CZ8mEA"
      }
    },
    {
      "cell_type": "code",
      "source": [
        "df2 = df.fillna(value = 0)"
      ],
      "metadata": {
        "id": "xCo3d2Gs16bm"
      },
      "execution_count": null,
      "outputs": []
    },
    {
      "cell_type": "code",
      "source": [
        "#checking if the null value has been filled\n",
        "df2.isna().sum().sum()"
      ],
      "metadata": {
        "colab": {
          "base_uri": "https://localhost:8080/"
        },
        "id": "nQgYm1FW2Jhu",
        "outputId": "50b1d0f0-5a4d-4ba0-8281-baa15e847f4a"
      },
      "execution_count": null,
      "outputs": [
        {
          "output_type": "execute_result",
          "data": {
            "text/plain": [
              "0"
            ]
          },
          "metadata": {},
          "execution_count": 15
        }
      ]
    },
    {
      "cell_type": "code",
      "source": [
        "df2.info()"
      ],
      "metadata": {
        "colab": {
          "base_uri": "https://localhost:8080/"
        },
        "id": "HdP1Wu2K2vND",
        "outputId": "17a63c2a-d828-4060-ae27-3cb66f35c239"
      },
      "execution_count": null,
      "outputs": [
        {
          "output_type": "stream",
          "name": "stdout",
          "text": [
            "<class 'pandas.core.frame.DataFrame'>\n",
            "RangeIndex: 16 entries, 0 to 15\n",
            "Data columns (total 11 columns):\n",
            " #   Column                                               Non-Null Count  Dtype  \n",
            "---  ------                                               --------------  -----  \n",
            " 0   Regional Descriptors                                 16 non-null     object \n",
            " 1   Agr Wage Farm Workers Allgender 2015                 16 non-null     float64\n",
            " 2   Agr Wage Farm Workers Male 2015                      16 non-null     float64\n",
            " 3   Agr Wage Farm Workers Female 2015                    16 non-null     float64\n",
            " 4   Avg Annual Total Incm Farm Households 02 03          16 non-null     int64  \n",
            " 5   Avg Annual Farm Incm Farm Households 02 03           16 non-null     int64  \n",
            " 6   Avg Annual Off Farm Incm Farm Households 02 03       16 non-null     int64  \n",
            " 7   Avg Annual Non Farm Incm Farm Households 02 03       16 non-null     int64  \n",
            " 8   Avg Annual Other Sources Incm Farm Households 02 03  16 non-null     int64  \n",
            " 9   Avg Rural Income 2000                                16 non-null     float64\n",
            " 10  Total Emply 2016                                     16 non-null     int64  \n",
            "dtypes: float64(4), int64(6), object(1)\n",
            "memory usage: 1.5+ KB\n"
          ]
        }
      ]
    },
    {
      "cell_type": "markdown",
      "source": [
        "# Data Visualization"
      ],
      "metadata": {
        "id": "qv6IJH3--Cxw"
      }
    },
    {
      "cell_type": "code",
      "source": [
        "import matplotlib.pyplot as plt"
      ],
      "metadata": {
        "id": "nuXc0vV4wAt0"
      },
      "execution_count": null,
      "outputs": []
    },
    {
      "cell_type": "code",
      "source": [
        "# showing the region with the highest total average income in farm households in 2015\n",
        "grouped_data = df2.groupby(['Regional Descriptors'])['Avg Annual Total Incm Farm Households 02 03'].sum().reset_index()\n",
        "\n",
        "reg_with_highest_incm_farmhouseholds_2015 = grouped_data.loc[grouped_data['Avg Annual Total Incm Farm Households 02 03'].idxmax()]\n",
        "\n",
        "print(\"Region with the highest averaged annual income from farm households in total (2015)\")\n",
        "print(\"Regional Descriptors: \", reg_with_highest_incm_farmhouseholds_2015['Regional Descriptors'])\n",
        "print(\"Annual Income 2015: \", reg_with_highest_incm_farmhouseholds_2015['Avg Annual Total Incm Farm Households 02 03'])"
      ],
      "metadata": {
        "id": "DvPwZoZfLcS0"
      },
      "execution_count": null,
      "outputs": []
    },
    {
      "cell_type": "code",
      "source": [
        "# A graph to show wage comparison of female and male farm workers in 2015 by respective regions\n",
        "fig, ax = plt.subplots(figsize=(40, 13))\n",
        "\n",
        "x = np.arange(len(df2))\n",
        "\n",
        "bar_width = 0.4\n",
        "\n",
        "b1 = ax.bar(x, df2['Agr Wage Farm Workers Male 2015'],\n",
        "            width=bar_width, label='Men')\n",
        "b2 = ax.bar(x + bar_width, df2['Agr Wage Farm Workers Female 2015'],\n",
        "            width=bar_width, label='Women')\n",
        "\n",
        "ax.set_xticks(x + bar_width / 2)\n",
        "ax.set_xticklabels(df2['Regional Descriptors'])\n",
        "\n",
        "ax.legend()\n",
        "\n",
        "ax.spines['top'].set_visible(False)\n",
        "ax.spines['right'].set_visible(False)\n",
        "ax.spines['left'].set_visible(False)\n",
        "ax.spines['bottom'].set_color('#DDDDDD')\n",
        "ax.tick_params(bottom=False, left=False)\n",
        "ax.set_axisbelow(True)\n",
        "ax.yaxis.grid(True, color='#EEEEEE')\n",
        "ax.xaxis.grid(False)\n",
        "\n",
        "ax.set_xlabel('Regional Descriptors', labelpad=15)\n",
        "ax.set_ylabel('Wage', labelpad=15)\n",
        "ax.set_title('Farmer Wage Comparison between Male and Female in 2015', pad=15)\n",
        "\n",
        "fig.tight_layout()\n",
        "\n",
        "for bar in ax.patches:\n",
        "  bar_value = bar.get_height()\n",
        "\n",
        "  text = f'{bar_value:,}'\n",
        "  text_x = bar.get_x() + bar.get_width() / 2\n",
        "  text_y = bar.get_y() + bar_value\n",
        "  bar_color = bar.get_facecolor()\n",
        "  ax.text(text_x, text_y, text, ha='center', va='bottom', color=bar_color,\n",
        "          size=16)"
      ],
      "metadata": {
        "colab": {
          "base_uri": "https://localhost:8080/",
          "height": 375
        },
        "id": "4LcpM5CRtttG",
        "outputId": "20c97ff2-549c-46ce-df1a-b3fa3bc6bc65"
      },
      "execution_count": null,
      "outputs": [
        {
          "output_type": "display_data",
          "data": {
            "text/plain": [
              "<Figure size 4000x1300 with 1 Axes>"
            ],
            "image/png": "[encoded data removed]"
          },
          "metadata": {}
        }
      ]
    }
  ]
}