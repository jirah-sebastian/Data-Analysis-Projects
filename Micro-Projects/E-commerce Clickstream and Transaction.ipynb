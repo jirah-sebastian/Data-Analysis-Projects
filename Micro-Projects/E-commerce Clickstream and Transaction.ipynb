{
 "cells": [
  {
   "cell_type": "code",
   "execution_count": 38,
   "metadata": {},
   "outputs": [
    {
     "name": "stdout",
     "output_type": "stream",
     "text": [
      "ZIP file extracted successfully.\n"
     ]
    }
   ],
   "source": [
    "import pandas as pd\n",
    "import zipfile\n",
    "import kaggle\n",
    "import os\n",
    "\n",
    "\n",
    "# Define the paths (use raw string or double backslashes)\n",
    "zip_file_path = r\"C:\\Users\\Admin\\Desktop\\EDA Python\\archive.zip\"  # Update with the correct path\n",
    "extract_dir = \"E-commerce_Clickstream_and_Transaction/\"\n",
    "\n",
    "# Create the extraction directory if it does not exist\n",
    "os.makedirs(extract_dir, exist_ok=True)\n",
    "\n",
    "# Extract the ZIP file\n",
    "try:\n",
    "    with zipfile.ZipFile(zip_file_path, 'r') as zip_ref:\n",
    "        zip_ref.extractall(extract_dir)\n",
    "    print(\"ZIP file extracted successfully.\")\n",
    "except FileNotFoundError as e:\n",
    "    print(f\"Error: {e}\")\n",
    "except zipfile.BadZipFile as e:\n",
    "    print(f\"Error: The file is not a ZIP file or it is corrupted: {e}\")\n"
   ]
  },
  {
   "cell_type": "code",
   "execution_count": 39,
   "metadata": {},
   "outputs": [],
   "source": [
    "df = pd.read_csv('E-commerce_Clickstream_and_Transaction\\ecommerce_clickstream_transactions.csv',na_values=\"?\")"
   ]
  },
  {
   "cell_type": "code",
   "execution_count": 40,
   "metadata": {},
   "outputs": [
    {
     "name": "stdout",
     "output_type": "stream",
     "text": [
      "       UserID  SessionID                   Timestamp     EventType  ProductID  \\\n",
      "0           1          1  2024-07-07 18:00:26.959902     page_view        NaN   \n",
      "1           1          1  2024-03-05 22:01:00.072000     page_view        NaN   \n",
      "2           1          1  2024-03-23 22:08:10.568453  product_view  prod_8199   \n",
      "3           1          1  2024-03-12 00:32:05.495638   add_to_cart  prod_4112   \n",
      "4           1          1  2024-02-25 22:43:01.318876   add_to_cart  prod_3354   \n",
      "...       ...        ...                         ...           ...        ...   \n",
      "74812    1000         10  2024-05-11 22:48:45.500117      purchase  prod_1238   \n",
      "74813    1000         10  2024-03-29 04:09:32.514318        logout        NaN   \n",
      "74814    1000         10  2024-02-09 02:58:56.128697         login        NaN   \n",
      "74815    1000         10  2024-04-30 16:19:48.002633      purchase  prod_2515   \n",
      "74816    1000         10  2024-04-01 02:19:29.148727        logout        NaN   \n",
      "\n",
      "           Amount   Outcome  \n",
      "0             NaN       NaN  \n",
      "1             NaN       NaN  \n",
      "2             NaN       NaN  \n",
      "3             NaN       NaN  \n",
      "4             NaN       NaN  \n",
      "...           ...       ...  \n",
      "74812  186.208225  purchase  \n",
      "74813         NaN       NaN  \n",
      "74814         NaN       NaN  \n",
      "74815  198.757849  purchase  \n",
      "74816         NaN       NaN  \n",
      "\n",
      "[74817 rows x 7 columns]\n"
     ]
    }
   ],
   "source": [
    "print(df)"
   ]
  },
  {
   "cell_type": "code",
   "execution_count": 41,
   "metadata": {},
   "outputs": [
    {
     "name": "stdout",
     "output_type": "stream",
     "text": [
      "<class 'pandas.core.frame.DataFrame'>\n",
      "RangeIndex: 74817 entries, 0 to 74816\n",
      "Data columns (total 7 columns):\n",
      " #   Column     Non-Null Count  Dtype  \n",
      "---  ------     --------------  -----  \n",
      " 0   UserID     74817 non-null  int64  \n",
      " 1   SessionID  74817 non-null  int64  \n",
      " 2   Timestamp  74817 non-null  object \n",
      " 3   EventType  74817 non-null  object \n",
      " 4   ProductID  32113 non-null  object \n",
      " 5   Amount     10682 non-null  float64\n",
      " 6   Outcome    10682 non-null  object \n",
      "dtypes: float64(1), int64(2), object(4)\n",
      "memory usage: 4.0+ MB\n"
     ]
    }
   ],
   "source": [
    "df.info()"
   ]
  },
  {
   "cell_type": "code",
   "execution_count": 42,
   "metadata": {},
   "outputs": [
    {
     "data": {
      "text/html": [
       "<div>\n",
       "<style scoped>\n",
       "    .dataframe tbody tr th:only-of-type {\n",
       "        vertical-align: middle;\n",
       "    }\n",
       "\n",
       "    .dataframe tbody tr th {\n",
       "        vertical-align: top;\n",
       "    }\n",
       "\n",
       "    .dataframe thead th {\n",
       "        text-align: right;\n",
       "    }\n",
       "</style>\n",
       "<table border=\"1\" class=\"dataframe\">\n",
       "  <thead>\n",
       "    <tr style=\"text-align: right;\">\n",
       "      <th></th>\n",
       "      <th>UserID</th>\n",
       "      <th>SessionID</th>\n",
       "      <th>Amount</th>\n",
       "    </tr>\n",
       "  </thead>\n",
       "  <tbody>\n",
       "    <tr>\n",
       "      <th>count</th>\n",
       "      <td>74817.000000</td>\n",
       "      <td>74817.000000</td>\n",
       "      <td>10682.000000</td>\n",
       "    </tr>\n",
       "    <tr>\n",
       "      <th>mean</th>\n",
       "      <td>500.740741</td>\n",
       "      <td>5.509777</td>\n",
       "      <td>253.189758</td>\n",
       "    </tr>\n",
       "    <tr>\n",
       "      <th>std</th>\n",
       "      <td>288.945183</td>\n",
       "      <td>2.869337</td>\n",
       "      <td>143.043974</td>\n",
       "    </tr>\n",
       "    <tr>\n",
       "      <th>min</th>\n",
       "      <td>1.000000</td>\n",
       "      <td>1.000000</td>\n",
       "      <td>5.131843</td>\n",
       "    </tr>\n",
       "    <tr>\n",
       "      <th>25%</th>\n",
       "      <td>251.000000</td>\n",
       "      <td>3.000000</td>\n",
       "      <td>130.933965</td>\n",
       "    </tr>\n",
       "    <tr>\n",
       "      <th>50%</th>\n",
       "      <td>501.000000</td>\n",
       "      <td>6.000000</td>\n",
       "      <td>253.112517</td>\n",
       "    </tr>\n",
       "    <tr>\n",
       "      <th>75%</th>\n",
       "      <td>751.000000</td>\n",
       "      <td>8.000000</td>\n",
       "      <td>378.832078</td>\n",
       "    </tr>\n",
       "    <tr>\n",
       "      <th>max</th>\n",
       "      <td>1000.000000</td>\n",
       "      <td>10.000000</td>\n",
       "      <td>499.981538</td>\n",
       "    </tr>\n",
       "  </tbody>\n",
       "</table>\n",
       "</div>"
      ],
      "text/plain": [
       "             UserID     SessionID        Amount\n",
       "count  74817.000000  74817.000000  10682.000000\n",
       "mean     500.740741      5.509777    253.189758\n",
       "std      288.945183      2.869337    143.043974\n",
       "min        1.000000      1.000000      5.131843\n",
       "25%      251.000000      3.000000    130.933965\n",
       "50%      501.000000      6.000000    253.112517\n",
       "75%      751.000000      8.000000    378.832078\n",
       "max     1000.000000     10.000000    499.981538"
      ]
     },
     "execution_count": 42,
     "metadata": {},
     "output_type": "execute_result"
    }
   ],
   "source": [
    "df.describe()"
   ]
  },
  {
   "cell_type": "code",
   "execution_count": 43,
   "metadata": {},
   "outputs": [
    {
     "name": "stdout",
     "output_type": "stream",
     "text": [
      "Objects:  Index(['Timestamp', 'EventType', 'ProductID', 'Outcome'], dtype='object') \n",
      "\n",
      "Integers:  Index(['UserID', 'SessionID'], dtype='object') \n",
      "\n",
      "Floats:  Index(['Amount'], dtype='object')\n"
     ]
    }
   ],
   "source": [
    "dtypes = df.dtypes\n",
    "\n",
    "obj_cols = dtypes[dtypes == 'object'].index\n",
    "int_cols = dtypes[dtypes == 'int'].index\n",
    "float_cols = dtypes[dtypes == 'float'].index\n",
    "\n",
    "print(\"Objects: \",obj_cols, \"\\n\")\n",
    "print(\"Integers: \",int_cols, \"\\n\")\n",
    "print(\"Floats: \",float_cols)"
   ]
  },
  {
   "cell_type": "code",
   "execution_count": 44,
   "metadata": {},
   "outputs": [
    {
     "data": {
      "text/plain": [
       "UserID           0\n",
       "SessionID        0\n",
       "Timestamp        0\n",
       "EventType        0\n",
       "ProductID    42704\n",
       "Amount       64135\n",
       "Outcome      64135\n",
       "dtype: int64"
      ]
     },
     "execution_count": 44,
     "metadata": {},
     "output_type": "execute_result"
    }
   ],
   "source": [
    "df.isnull().sum()"
   ]
  },
  {
   "cell_type": "code",
   "execution_count": 45,
   "metadata": {},
   "outputs": [
    {
     "data": {
      "text/plain": [
       "UserID           0\n",
       "SessionID        0\n",
       "Timestamp        0\n",
       "EventType        0\n",
       "ProductID    42704\n",
       "Amount       64135\n",
       "Outcome      64135\n",
       "dtype: int64"
      ]
     },
     "execution_count": 45,
     "metadata": {},
     "output_type": "execute_result"
    }
   ],
   "source": [
    "df.isna().sum()"
   ]
  },
  {
   "cell_type": "code",
   "execution_count": 46,
   "metadata": {},
   "outputs": [
    {
     "name": "stdout",
     "output_type": "stream",
     "text": [
      "       UserID  SessionID                   Timestamp     EventType  ProductID  \\\n",
      "0           1          1  2024-07-07 18:00:26.959902     page_view  prod_8199   \n",
      "1           1          1  2024-03-05 22:01:00.072000     page_view  prod_4112   \n",
      "2           1          1  2024-03-23 22:08:10.568453  product_view  prod_3354   \n",
      "3           1          1  2024-03-12 00:32:05.495638   add_to_cart  prod_4965   \n",
      "4           1          1  2024-02-25 22:43:01.318876   add_to_cart  prod_2683   \n",
      "...       ...        ...                         ...           ...        ...   \n",
      "74812    1000         10  2024-05-11 22:48:45.500117      purchase        NaN   \n",
      "74813    1000         10  2024-03-29 04:09:32.514318        logout        NaN   \n",
      "74814    1000         10  2024-02-09 02:58:56.128697         login        NaN   \n",
      "74815    1000         10  2024-04-30 16:19:48.002633      purchase        NaN   \n",
      "74816    1000         10  2024-04-01 02:19:29.148727        logout        NaN   \n",
      "\n",
      "           Amount   Outcome  \n",
      "0       72.913619  purchase  \n",
      "1        7.677938  purchase  \n",
      "2      149.270047  purchase  \n",
      "3      359.589136  purchase  \n",
      "4      454.105277  purchase  \n",
      "...           ...       ...  \n",
      "74812         NaN       NaN  \n",
      "74813         NaN       NaN  \n",
      "74814         NaN       NaN  \n",
      "74815         NaN       NaN  \n",
      "74816         NaN       NaN  \n",
      "\n",
      "[74817 rows x 7 columns]\n"
     ]
    }
   ],
   "source": [
    "# Here I will replace all NaN values with empty strings\n",
    "df = df.apply(lambda x: pd.Series(x.dropna().values))\n",
    "print(df)"
   ]
  },
  {
   "cell_type": "code",
   "execution_count": 47,
   "metadata": {},
   "outputs": [
    {
     "name": "stdout",
     "output_type": "stream",
     "text": [
      "       UserID  SessionID                   Timestamp     EventType  ProductID  \\\n",
      "0           1          1  2024-07-07 18:00:26.959902     page_view  prod_8199   \n",
      "1           1          1  2024-03-05 22:01:00.072000     page_view  prod_4112   \n",
      "2           1          1  2024-03-23 22:08:10.568453  product_view  prod_3354   \n",
      "3           1          1  2024-03-12 00:32:05.495638   add_to_cart  prod_4965   \n",
      "4           1          1  2024-02-25 22:43:01.318876   add_to_cart  prod_2683   \n",
      "...       ...        ...                         ...           ...        ...   \n",
      "74812    1000         10  2024-05-11 22:48:45.500117      purchase              \n",
      "74813    1000         10  2024-03-29 04:09:32.514318        logout              \n",
      "74814    1000         10  2024-02-09 02:58:56.128697         login              \n",
      "74815    1000         10  2024-04-30 16:19:48.002633      purchase              \n",
      "74816    1000         10  2024-04-01 02:19:29.148727        logout              \n",
      "\n",
      "           Amount   Outcome  \n",
      "0       72.913619  purchase  \n",
      "1        7.677938  purchase  \n",
      "2      149.270047  purchase  \n",
      "3      359.589136  purchase  \n",
      "4      454.105277  purchase  \n",
      "...           ...       ...  \n",
      "74812                        \n",
      "74813                        \n",
      "74814                        \n",
      "74815                        \n",
      "74816                        \n",
      "\n",
      "[74817 rows x 7 columns]\n"
     ]
    }
   ],
   "source": [
    "# Fill NaN values with empty strings\n",
    "df = df.fillna('')\n",
    "\n",
    "print(df) # Here we can see that NaN values are gone"
   ]
  },
  {
   "cell_type": "code",
   "execution_count": 48,
   "metadata": {},
   "outputs": [
    {
     "data": {
      "text/plain": [
       "UserID       0\n",
       "SessionID    0\n",
       "Timestamp    0\n",
       "EventType    0\n",
       "ProductID    0\n",
       "Amount       0\n",
       "Outcome      0\n",
       "dtype: int64"
      ]
     },
     "execution_count": 48,
     "metadata": {},
     "output_type": "execute_result"
    }
   ],
   "source": [
    "df.isna().sum()"
   ]
  },
  {
   "cell_type": "code",
   "execution_count": 49,
   "metadata": {},
   "outputs": [
    {
     "data": {
      "text/plain": [
       "np.int64(0)"
      ]
     },
     "execution_count": 49,
     "metadata": {},
     "output_type": "execute_result"
    }
   ],
   "source": [
    "# checking if there are duplicates\n",
    "df.duplicated().sum()"
   ]
  },
  {
   "cell_type": "code",
   "execution_count": 50,
   "metadata": {},
   "outputs": [],
   "source": [
    "df.to_csv('E-commerce_Clickstream_and_Transaction\\modified_cleaned_data.csv', index=False)"
   ]
  },
  {
   "cell_type": "code",
   "execution_count": 51,
   "metadata": {},
   "outputs": [
    {
     "name": "stdout",
     "output_type": "stream",
     "text": [
      "       UserID  SessionID                   Timestamp     EventType  ProductID  \\\n",
      "0           1          1  2024-07-07 18:00:26.959902     page_view  prod_8199   \n",
      "1           1          1  2024-03-05 22:01:00.072000     page_view  prod_4112   \n",
      "2           1          1  2024-03-23 22:08:10.568453  product_view  prod_3354   \n",
      "3           1          1  2024-03-12 00:32:05.495638   add_to_cart  prod_4965   \n",
      "4           1          1  2024-02-25 22:43:01.318876   add_to_cart  prod_2683   \n",
      "...       ...        ...                         ...           ...        ...   \n",
      "74812    1000         10  2024-05-11 22:48:45.500117      purchase        NaN   \n",
      "74813    1000         10  2024-03-29 04:09:32.514318        logout        NaN   \n",
      "74814    1000         10  2024-02-09 02:58:56.128697         login        NaN   \n",
      "74815    1000         10  2024-04-30 16:19:48.002633      purchase        NaN   \n",
      "74816    1000         10  2024-04-01 02:19:29.148727        logout        NaN   \n",
      "\n",
      "           Amount   Outcome  \n",
      "0       72.913619  purchase  \n",
      "1        7.677938  purchase  \n",
      "2      149.270047  purchase  \n",
      "3      359.589136  purchase  \n",
      "4      454.105277  purchase  \n",
      "...           ...       ...  \n",
      "74812         NaN       NaN  \n",
      "74813         NaN       NaN  \n",
      "74814         NaN       NaN  \n",
      "74815         NaN       NaN  \n",
      "74816         NaN       NaN  \n",
      "\n",
      "[74817 rows x 7 columns]\n"
     ]
    }
   ],
   "source": [
    "df = pd.read_csv('E-commerce_Clickstream_and_Transaction\\modified_cleaned_data.csv')\n",
    "print(df)"
   ]
  },
  {
   "cell_type": "code",
   "execution_count": 52,
   "metadata": {},
   "outputs": [
    {
     "data": {
      "text/plain": [
       "UserID           0\n",
       "SessionID        0\n",
       "Timestamp        0\n",
       "EventType        0\n",
       "ProductID    42704\n",
       "Amount       64135\n",
       "Outcome      64135\n",
       "dtype: int64"
      ]
     },
     "execution_count": 52,
     "metadata": {},
     "output_type": "execute_result"
    }
   ],
   "source": [
    "df.isna().sum()"
   ]
  },
  {
   "cell_type": "code",
   "execution_count": 53,
   "metadata": {},
   "outputs": [],
   "source": [
    "import pandas as pd\n",
    "import numpy as np\n",
    "import matplotlib.pyplot as plt\n",
    "import seaborn as sns"
   ]
  },
  {
   "cell_type": "code",
   "execution_count": 54,
   "metadata": {},
   "outputs": [],
   "source": [
    "df = pd.read_csv('E-commerce_Clickstream_and_Transaction\\modified_cleaned_data.csv')"
   ]
  },
  {
   "cell_type": "code",
   "execution_count": 55,
   "metadata": {},
   "outputs": [
    {
     "name": "stdout",
     "output_type": "stream",
     "text": [
      "<class 'pandas.core.frame.DataFrame'>\n",
      "RangeIndex: 74817 entries, 0 to 74816\n",
      "Data columns (total 7 columns):\n",
      " #   Column     Non-Null Count  Dtype  \n",
      "---  ------     --------------  -----  \n",
      " 0   UserID     74817 non-null  int64  \n",
      " 1   SessionID  74817 non-null  int64  \n",
      " 2   Timestamp  74817 non-null  object \n",
      " 3   EventType  74817 non-null  object \n",
      " 4   ProductID  32113 non-null  object \n",
      " 5   Amount     10682 non-null  float64\n",
      " 6   Outcome    10682 non-null  object \n",
      "dtypes: float64(1), int64(2), object(4)\n",
      "memory usage: 4.0+ MB\n",
      "       UserID  SessionID                   Timestamp     EventType  ProductID  \\\n",
      "0           1          1  2024-07-07 18:00:26.959902     page_view  prod_8199   \n",
      "1           1          1  2024-03-05 22:01:00.072000     page_view  prod_4112   \n",
      "2           1          1  2024-03-23 22:08:10.568453  product_view  prod_3354   \n",
      "3           1          1  2024-03-12 00:32:05.495638   add_to_cart  prod_4965   \n",
      "4           1          1  2024-02-25 22:43:01.318876   add_to_cart  prod_2683   \n",
      "...       ...        ...                         ...           ...        ...   \n",
      "74812    1000         10  2024-05-11 22:48:45.500117      purchase        NaN   \n",
      "74813    1000         10  2024-03-29 04:09:32.514318        logout        NaN   \n",
      "74814    1000         10  2024-02-09 02:58:56.128697         login        NaN   \n",
      "74815    1000         10  2024-04-30 16:19:48.002633      purchase        NaN   \n",
      "74816    1000         10  2024-04-01 02:19:29.148727        logout        NaN   \n",
      "\n",
      "           Amount   Outcome  \n",
      "0       72.913619  purchase  \n",
      "1        7.677938  purchase  \n",
      "2      149.270047  purchase  \n",
      "3      359.589136  purchase  \n",
      "4      454.105277  purchase  \n",
      "...           ...       ...  \n",
      "74812         NaN       NaN  \n",
      "74813         NaN       NaN  \n",
      "74814         NaN       NaN  \n",
      "74815         NaN       NaN  \n",
      "74816         NaN       NaN  \n",
      "\n",
      "[74817 rows x 7 columns]\n"
     ]
    }
   ],
   "source": [
    "df.head()\n",
    "df.info()\n",
    "df.describe()\n",
    "print(df)"
   ]
  },
  {
   "cell_type": "code",
   "execution_count": 56,
   "metadata": {},
   "outputs": [
    {
     "data": {
      "text/html": [
       "<div>\n",
       "<style scoped>\n",
       "    .dataframe tbody tr th:only-of-type {\n",
       "        vertical-align: middle;\n",
       "    }\n",
       "\n",
       "    .dataframe tbody tr th {\n",
       "        vertical-align: top;\n",
       "    }\n",
       "\n",
       "    .dataframe thead th {\n",
       "        text-align: right;\n",
       "    }\n",
       "</style>\n",
       "<table border=\"1\" class=\"dataframe\">\n",
       "  <thead>\n",
       "    <tr style=\"text-align: right;\">\n",
       "      <th></th>\n",
       "      <th>UserID</th>\n",
       "      <th>SessionID</th>\n",
       "      <th>Timestamp</th>\n",
       "      <th>EventType</th>\n",
       "      <th>ProductID</th>\n",
       "      <th>Amount</th>\n",
       "      <th>Outcome</th>\n",
       "    </tr>\n",
       "  </thead>\n",
       "  <tbody>\n",
       "    <tr>\n",
       "      <th>0</th>\n",
       "      <td>1</td>\n",
       "      <td>1</td>\n",
       "      <td>2024-07-07 18:00:26.959902</td>\n",
       "      <td>page_view</td>\n",
       "      <td>prod_8199</td>\n",
       "      <td>72.913619</td>\n",
       "      <td>purchase</td>\n",
       "    </tr>\n",
       "    <tr>\n",
       "      <th>1</th>\n",
       "      <td>1</td>\n",
       "      <td>1</td>\n",
       "      <td>2024-03-05 22:01:00.072000</td>\n",
       "      <td>page_view</td>\n",
       "      <td>prod_4112</td>\n",
       "      <td>7.677938</td>\n",
       "      <td>purchase</td>\n",
       "    </tr>\n",
       "    <tr>\n",
       "      <th>2</th>\n",
       "      <td>1</td>\n",
       "      <td>1</td>\n",
       "      <td>2024-03-23 22:08:10.568453</td>\n",
       "      <td>product_view</td>\n",
       "      <td>prod_3354</td>\n",
       "      <td>149.270047</td>\n",
       "      <td>purchase</td>\n",
       "    </tr>\n",
       "    <tr>\n",
       "      <th>3</th>\n",
       "      <td>1</td>\n",
       "      <td>1</td>\n",
       "      <td>2024-03-12 00:32:05.495638</td>\n",
       "      <td>add_to_cart</td>\n",
       "      <td>prod_4965</td>\n",
       "      <td>359.589136</td>\n",
       "      <td>purchase</td>\n",
       "    </tr>\n",
       "    <tr>\n",
       "      <th>4</th>\n",
       "      <td>1</td>\n",
       "      <td>1</td>\n",
       "      <td>2024-02-25 22:43:01.318876</td>\n",
       "      <td>add_to_cart</td>\n",
       "      <td>prod_2683</td>\n",
       "      <td>454.105277</td>\n",
       "      <td>purchase</td>\n",
       "    </tr>\n",
       "  </tbody>\n",
       "</table>\n",
       "</div>"
      ],
      "text/plain": [
       "   UserID  SessionID                   Timestamp     EventType  ProductID  \\\n",
       "0       1          1  2024-07-07 18:00:26.959902     page_view  prod_8199   \n",
       "1       1          1  2024-03-05 22:01:00.072000     page_view  prod_4112   \n",
       "2       1          1  2024-03-23 22:08:10.568453  product_view  prod_3354   \n",
       "3       1          1  2024-03-12 00:32:05.495638   add_to_cart  prod_4965   \n",
       "4       1          1  2024-02-25 22:43:01.318876   add_to_cart  prod_2683   \n",
       "\n",
       "       Amount   Outcome  \n",
       "0   72.913619  purchase  \n",
       "1    7.677938  purchase  \n",
       "2  149.270047  purchase  \n",
       "3  359.589136  purchase  \n",
       "4  454.105277  purchase  "
      ]
     },
     "execution_count": 56,
     "metadata": {},
     "output_type": "execute_result"
    }
   ],
   "source": [
    "df.head()"
   ]
  },
  {
   "cell_type": "markdown",
   "metadata": {},
   "source": [
    "Data Transformation"
   ]
  },
  {
   "cell_type": "code",
   "execution_count": 57,
   "metadata": {},
   "outputs": [
    {
     "name": "stdout",
     "output_type": "stream",
     "text": [
      "<class 'pandas.core.frame.DataFrame'>\n",
      "RangeIndex: 74817 entries, 0 to 74816\n",
      "Data columns (total 7 columns):\n",
      " #   Column     Non-Null Count  Dtype  \n",
      "---  ------     --------------  -----  \n",
      " 0   UserID     74817 non-null  int64  \n",
      " 1   SessionID  74817 non-null  int64  \n",
      " 2   Timestamp  74817 non-null  object \n",
      " 3   EventType  74817 non-null  object \n",
      " 4   ProductID  32113 non-null  object \n",
      " 5   Amount     10682 non-null  float64\n",
      " 6   Outcome    10682 non-null  object \n",
      "dtypes: float64(1), int64(2), object(4)\n",
      "memory usage: 4.0+ MB\n",
      "       UserID  SessionID                   Timestamp     EventType  ProductID  \\\n",
      "0           1          1  2024-07-07 18:00:26.959902     page_view  prod_8199   \n",
      "1           1          1  2024-03-05 22:01:00.072000     page_view  prod_4112   \n",
      "2           1          1  2024-03-23 22:08:10.568453  product_view  prod_3354   \n",
      "3           1          1  2024-03-12 00:32:05.495638   add_to_cart  prod_4965   \n",
      "4           1          1  2024-02-25 22:43:01.318876   add_to_cart  prod_2683   \n",
      "...       ...        ...                         ...           ...        ...   \n",
      "74812    1000         10  2024-05-11 22:48:45.500117      purchase        NaN   \n",
      "74813    1000         10  2024-03-29 04:09:32.514318        logout        NaN   \n",
      "74814    1000         10  2024-02-09 02:58:56.128697         login        NaN   \n",
      "74815    1000         10  2024-04-30 16:19:48.002633      purchase        NaN   \n",
      "74816    1000         10  2024-04-01 02:19:29.148727        logout        NaN   \n",
      "\n",
      "           Amount   Outcome  \n",
      "0       72.913619  purchase  \n",
      "1        7.677938  purchase  \n",
      "2      149.270047  purchase  \n",
      "3      359.589136  purchase  \n",
      "4      454.105277  purchase  \n",
      "...           ...       ...  \n",
      "74812         NaN       NaN  \n",
      "74813         NaN       NaN  \n",
      "74814         NaN       NaN  \n",
      "74815         NaN       NaN  \n",
      "74816         NaN       NaN  \n",
      "\n",
      "[74817 rows x 7 columns]\n"
     ]
    }
   ],
   "source": [
    "df.head()\n",
    "df.info()\n",
    "df.describe()\n",
    "print(df)"
   ]
  },
  {
   "cell_type": "code",
   "execution_count": 58,
   "metadata": {},
   "outputs": [
    {
     "data": {
      "text/html": [
       "<div>\n",
       "<style scoped>\n",
       "    .dataframe tbody tr th:only-of-type {\n",
       "        vertical-align: middle;\n",
       "    }\n",
       "\n",
       "    .dataframe tbody tr th {\n",
       "        vertical-align: top;\n",
       "    }\n",
       "\n",
       "    .dataframe thead th {\n",
       "        text-align: right;\n",
       "    }\n",
       "</style>\n",
       "<table border=\"1\" class=\"dataframe\">\n",
       "  <thead>\n",
       "    <tr style=\"text-align: right;\">\n",
       "      <th></th>\n",
       "      <th>UserID</th>\n",
       "      <th>SessionID</th>\n",
       "      <th>Amount</th>\n",
       "    </tr>\n",
       "  </thead>\n",
       "  <tbody>\n",
       "    <tr>\n",
       "      <th>count</th>\n",
       "      <td>74817.000000</td>\n",
       "      <td>74817.000000</td>\n",
       "      <td>10682.000000</td>\n",
       "    </tr>\n",
       "    <tr>\n",
       "      <th>mean</th>\n",
       "      <td>500.740741</td>\n",
       "      <td>5.509777</td>\n",
       "      <td>253.189758</td>\n",
       "    </tr>\n",
       "    <tr>\n",
       "      <th>std</th>\n",
       "      <td>288.945183</td>\n",
       "      <td>2.869337</td>\n",
       "      <td>143.043974</td>\n",
       "    </tr>\n",
       "    <tr>\n",
       "      <th>min</th>\n",
       "      <td>1.000000</td>\n",
       "      <td>1.000000</td>\n",
       "      <td>5.131843</td>\n",
       "    </tr>\n",
       "    <tr>\n",
       "      <th>25%</th>\n",
       "      <td>251.000000</td>\n",
       "      <td>3.000000</td>\n",
       "      <td>130.933965</td>\n",
       "    </tr>\n",
       "    <tr>\n",
       "      <th>50%</th>\n",
       "      <td>501.000000</td>\n",
       "      <td>6.000000</td>\n",
       "      <td>253.112517</td>\n",
       "    </tr>\n",
       "    <tr>\n",
       "      <th>75%</th>\n",
       "      <td>751.000000</td>\n",
       "      <td>8.000000</td>\n",
       "      <td>378.832078</td>\n",
       "    </tr>\n",
       "    <tr>\n",
       "      <th>max</th>\n",
       "      <td>1000.000000</td>\n",
       "      <td>10.000000</td>\n",
       "      <td>499.981538</td>\n",
       "    </tr>\n",
       "  </tbody>\n",
       "</table>\n",
       "</div>"
      ],
      "text/plain": [
       "             UserID     SessionID        Amount\n",
       "count  74817.000000  74817.000000  10682.000000\n",
       "mean     500.740741      5.509777    253.189758\n",
       "std      288.945183      2.869337    143.043974\n",
       "min        1.000000      1.000000      5.131843\n",
       "25%      251.000000      3.000000    130.933965\n",
       "50%      501.000000      6.000000    253.112517\n",
       "75%      751.000000      8.000000    378.832078\n",
       "max     1000.000000     10.000000    499.981538"
      ]
     },
     "execution_count": 58,
     "metadata": {},
     "output_type": "execute_result"
    }
   ],
   "source": [
    "df.describe()"
   ]
  },
  {
   "cell_type": "code",
   "execution_count": 59,
   "metadata": {},
   "outputs": [
    {
     "name": "stdout",
     "output_type": "stream",
     "text": [
      "             UserID     SessionID        Amount\n",
      "count  74817.000000  74817.000000  10682.000000\n",
      "mean     500.740741      5.509777    253.189758\n",
      "std      288.945183      2.869337    143.043974\n",
      "min        1.000000      1.000000      5.131843\n",
      "25%      251.000000      3.000000    130.933965\n",
      "50%      501.000000      6.000000    253.112517\n",
      "75%      751.000000      8.000000    378.832078\n",
      "max     1000.000000     10.000000    499.981538\n"
     ]
    }
   ],
   "source": [
    "print(df.describe())"
   ]
  },
  {
   "cell_type": "code",
   "execution_count": 60,
   "metadata": {},
   "outputs": [
    {
     "name": "stdout",
     "output_type": "stream",
     "text": [
      "<class 'pandas.core.frame.DataFrame'>\n",
      "RangeIndex: 74817 entries, 0 to 74816\n",
      "Data columns (total 7 columns):\n",
      " #   Column     Non-Null Count  Dtype  \n",
      "---  ------     --------------  -----  \n",
      " 0   UserID     74817 non-null  int64  \n",
      " 1   SessionID  74817 non-null  int64  \n",
      " 2   Timestamp  74817 non-null  object \n",
      " 3   EventType  74817 non-null  object \n",
      " 4   ProductID  32113 non-null  object \n",
      " 5   Amount     10682 non-null  float64\n",
      " 6   Outcome    10682 non-null  object \n",
      "dtypes: float64(1), int64(2), object(4)\n",
      "memory usage: 4.0+ MB\n",
      "None\n"
     ]
    }
   ],
   "source": [
    "print(df.info())"
   ]
  },
  {
   "cell_type": "code",
   "execution_count": 61,
   "metadata": {},
   "outputs": [
    {
     "name": "stdout",
     "output_type": "stream",
     "text": [
      "   UserID  SessionID                   Timestamp     EventType  ProductID  \\\n",
      "0       1          1  2024-07-07 18:00:26.959902     page_view  prod_8199   \n",
      "1       1          1  2024-03-05 22:01:00.072000     page_view  prod_4112   \n",
      "2       1          1  2024-03-23 22:08:10.568453  product_view  prod_3354   \n",
      "3       1          1  2024-03-12 00:32:05.495638   add_to_cart  prod_4965   \n",
      "4       1          1  2024-02-25 22:43:01.318876   add_to_cart  prod_2683   \n",
      "\n",
      "       Amount   Outcome  \n",
      "0   72.913619  purchase  \n",
      "1    7.677938  purchase  \n",
      "2  149.270047  purchase  \n",
      "3  359.589136  purchase  \n",
      "4  454.105277  purchase  \n"
     ]
    }
   ],
   "source": [
    "print(df.head())"
   ]
  },
  {
   "cell_type": "code",
   "execution_count": 62,
   "metadata": {},
   "outputs": [
    {
     "name": "stdout",
     "output_type": "stream",
     "text": [
      "UserID           0\n",
      "SessionID        0\n",
      "Timestamp        0\n",
      "EventType        0\n",
      "ProductID    42704\n",
      "Amount       64135\n",
      "Outcome      64135\n",
      "dtype: int64\n"
     ]
    }
   ],
   "source": [
    "print(df.isnull().sum())"
   ]
  },
  {
   "cell_type": "code",
   "execution_count": 76,
   "metadata": {},
   "outputs": [
    {
     "data": {
      "text/html": [
       "<div>\n",
       "<style scoped>\n",
       "    .dataframe tbody tr th:only-of-type {\n",
       "        vertical-align: middle;\n",
       "    }\n",
       "\n",
       "    .dataframe tbody tr th {\n",
       "        vertical-align: top;\n",
       "    }\n",
       "\n",
       "    .dataframe thead th {\n",
       "        text-align: right;\n",
       "    }\n",
       "</style>\n",
       "<table border=\"1\" class=\"dataframe\">\n",
       "  <thead>\n",
       "    <tr style=\"text-align: right;\">\n",
       "      <th></th>\n",
       "      <th>UserID</th>\n",
       "      <th>SessionID</th>\n",
       "      <th>Amount</th>\n",
       "    </tr>\n",
       "  </thead>\n",
       "  <tbody>\n",
       "    <tr>\n",
       "      <th>count</th>\n",
       "      <td>74817.000000</td>\n",
       "      <td>74817.000000</td>\n",
       "      <td>10682.000000</td>\n",
       "    </tr>\n",
       "    <tr>\n",
       "      <th>mean</th>\n",
       "      <td>500.740741</td>\n",
       "      <td>5.509777</td>\n",
       "      <td>253.189758</td>\n",
       "    </tr>\n",
       "    <tr>\n",
       "      <th>std</th>\n",
       "      <td>288.945183</td>\n",
       "      <td>2.869337</td>\n",
       "      <td>143.043974</td>\n",
       "    </tr>\n",
       "    <tr>\n",
       "      <th>min</th>\n",
       "      <td>1.000000</td>\n",
       "      <td>1.000000</td>\n",
       "      <td>5.131843</td>\n",
       "    </tr>\n",
       "    <tr>\n",
       "      <th>25%</th>\n",
       "      <td>251.000000</td>\n",
       "      <td>3.000000</td>\n",
       "      <td>130.933965</td>\n",
       "    </tr>\n",
       "    <tr>\n",
       "      <th>50%</th>\n",
       "      <td>501.000000</td>\n",
       "      <td>6.000000</td>\n",
       "      <td>253.112517</td>\n",
       "    </tr>\n",
       "    <tr>\n",
       "      <th>75%</th>\n",
       "      <td>751.000000</td>\n",
       "      <td>8.000000</td>\n",
       "      <td>378.832078</td>\n",
       "    </tr>\n",
       "    <tr>\n",
       "      <th>max</th>\n",
       "      <td>1000.000000</td>\n",
       "      <td>10.000000</td>\n",
       "      <td>499.981538</td>\n",
       "    </tr>\n",
       "  </tbody>\n",
       "</table>\n",
       "</div>"
      ],
      "text/plain": [
       "             UserID     SessionID        Amount\n",
       "count  74817.000000  74817.000000  10682.000000\n",
       "mean     500.740741      5.509777    253.189758\n",
       "std      288.945183      2.869337    143.043974\n",
       "min        1.000000      1.000000      5.131843\n",
       "25%      251.000000      3.000000    130.933965\n",
       "50%      501.000000      6.000000    253.112517\n",
       "75%      751.000000      8.000000    378.832078\n",
       "max     1000.000000     10.000000    499.981538"
      ]
     },
     "execution_count": 76,
     "metadata": {},
     "output_type": "execute_result"
    }
   ],
   "source": [
    "df = pd.read_csv('E-commerce_Clickstream_and_Transaction\\modified_cleaned_data.csv')\n",
    "df.describe()"
   ]
  },
  {
   "cell_type": "code",
   "execution_count": 79,
   "metadata": {},
   "outputs": [
    {
     "name": "stdout",
     "output_type": "stream",
     "text": [
      "ProductID\n",
      "prod_4714    12\n",
      "prod_6051    12\n",
      "prod_8844    11\n",
      "prod_9806    11\n",
      "prod_5583    11\n",
      "prod_1131    11\n",
      "prod_6092    11\n",
      "prod_7938    11\n",
      "prod_8119    11\n",
      "prod_5253    10\n",
      "Name: count, dtype: int64\n"
     ]
    },
    {
     "data": {
      "image/png": "[encoded data removed]",
      "text/plain": [
       "<Figure size 1000x600 with 1 Axes>"
      ]
     },
     "metadata": {},
     "output_type": "display_data"
    }
   ],
   "source": [
    "# Count occurrences of product IDs\n",
    "product_counts = data['ProductID'].value_counts()\n",
    "\n",
    "# Sort by frequency\n",
    "popular_products = product_counts.sort_values(ascending=False)\n",
    "\n",
    "# Print popular products\n",
    "print(popular_products.head(10))\n",
    "\n",
    "# Visualize distribution\n",
    "popular_products.plot(kind='bar', figsize=(10, 6))\n",
    "plt.title('Product Popularity')\n",
    "plt.xlabel('Product ID')\n",
    "plt.ylabel('Frequency')\n",
    "plt.show()"
   ]
  }
 ],
 "metadata": {
  "kernelspec": {
   "display_name": "Python 3",
   "language": "python",
   "name": "python3"
  },
  "language_info": {
   "codemirror_mode": {
    "name": "ipython",
    "version": 3
   },
   "file_extension": ".py",
   "mimetype": "text/x-python",
   "name": "python",
   "nbconvert_exporter": "python",
   "pygments_lexer": "ipython3",
   "version": "3.11.2"
  }
 },
 "nbformat": 4,
 "nbformat_minor": 2
}
