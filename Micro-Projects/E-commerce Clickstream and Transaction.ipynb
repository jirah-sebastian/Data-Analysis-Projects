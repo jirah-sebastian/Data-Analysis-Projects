{
 "cells": [
  {
   "cell_type": "code",
   "execution_count": 19,
   "metadata": {},
   "outputs": [
    {
     "name": "stdout",
     "output_type": "stream",
     "text": [
      "ZIP file extracted successfully.\n"
     ]
    }
   ],
   "source": [
    "import pandas as pd\n",
    "import zipfile\n",
    "import kaggle\n",
    "import os\n",
    "import ydata_profiling\n",
    "\n",
    "# Define the paths (use raw string or double backslashes)\n",
    "zip_file_path = r\"C:\\Users\\Admin\\Desktop\\EDA Python\\archive.zip\"  # Update with the correct path\n",
    "extract_dir = \"E-commerce_Clickstream_and_Transaction/\"\n",
    "\n",
    "# Create the extraction directory if it does not exist\n",
    "os.makedirs(extract_dir, exist_ok=True)\n",
    "\n",
    "# Extract the ZIP file\n",
    "try:\n",
    "    with zipfile.ZipFile(zip_file_path, 'r') as zip_ref:\n",
    "        zip_ref.extractall(extract_dir)\n",
    "    print(\"ZIP file extracted successfully.\")\n",
    "except FileNotFoundError as e:\n",
    "    print(f\"Error: {e}\")\n",
    "except zipfile.BadZipFile as e:\n",
    "    print(f\"Error: The file is not a ZIP file or it is corrupted: {e}\")\n"
   ]
  },
  {
   "cell_type": "code",
   "execution_count": 20,
   "metadata": {},
   "outputs": [],
   "source": [
    "from ydata_profiling import ProfileReport"
   ]
  },
  {
   "cell_type": "code",
   "execution_count": 33,
   "metadata": {},
   "outputs": [],
   "source": [
    "df = pd.read_csv('E-commerce_Clickstream_and_Transaction\\ecommerce_clickstream_transactions.csv',na_values=\"?\")"
   ]
  },
  {
   "cell_type": "code",
   "execution_count": 22,
   "metadata": {},
   "outputs": [],
   "source": [
    "profile = ProfileReport(df, title=\"E-commerce Clickstream and Transaction\", explorative=True)"
   ]
  },
  {
   "cell_type": "code",
   "execution_count": null,
   "metadata": {},
   "outputs": [],
   "source": [
    "profile.to_notebook_iframe()"
   ]
  },
  {
   "cell_type": "code",
   "execution_count": 34,
   "metadata": {},
   "outputs": [
    {
     "name": "stdout",
     "output_type": "stream",
     "text": [
      "       UserID  SessionID                   Timestamp     EventType  ProductID  \\\n",
      "0           1          1  2024-07-07 18:00:26.959902     page_view        NaN   \n",
      "1           1          1  2024-03-05 22:01:00.072000     page_view        NaN   \n",
      "2           1          1  2024-03-23 22:08:10.568453  product_view  prod_8199   \n",
      "3           1          1  2024-03-12 00:32:05.495638   add_to_cart  prod_4112   \n",
      "4           1          1  2024-02-25 22:43:01.318876   add_to_cart  prod_3354   \n",
      "...       ...        ...                         ...           ...        ...   \n",
      "74812    1000         10  2024-05-11 22:48:45.500117      purchase  prod_1238   \n",
      "74813    1000         10  2024-03-29 04:09:32.514318        logout        NaN   \n",
      "74814    1000         10  2024-02-09 02:58:56.128697         login        NaN   \n",
      "74815    1000         10  2024-04-30 16:19:48.002633      purchase  prod_2515   \n",
      "74816    1000         10  2024-04-01 02:19:29.148727        logout        NaN   \n",
      "\n",
      "           Amount   Outcome  \n",
      "0             NaN       NaN  \n",
      "1             NaN       NaN  \n",
      "2             NaN       NaN  \n",
      "3             NaN       NaN  \n",
      "4             NaN       NaN  \n",
      "...           ...       ...  \n",
      "74812  186.208225  purchase  \n",
      "74813         NaN       NaN  \n",
      "74814         NaN       NaN  \n",
      "74815  198.757849  purchase  \n",
      "74816         NaN       NaN  \n",
      "\n",
      "[74817 rows x 7 columns]\n"
     ]
    }
   ],
   "source": [
    "print(df)"
   ]
  },
  {
   "cell_type": "code",
   "execution_count": 35,
   "metadata": {},
   "outputs": [
    {
     "name": "stdout",
     "output_type": "stream",
     "text": [
      "<class 'pandas.core.frame.DataFrame'>\n",
      "RangeIndex: 74817 entries, 0 to 74816\n",
      "Data columns (total 7 columns):\n",
      " #   Column     Non-Null Count  Dtype  \n",
      "---  ------     --------------  -----  \n",
      " 0   UserID     74817 non-null  int64  \n",
      " 1   SessionID  74817 non-null  int64  \n",
      " 2   Timestamp  74817 non-null  object \n",
      " 3   EventType  74817 non-null  object \n",
      " 4   ProductID  32113 non-null  object \n",
      " 5   Amount     10682 non-null  float64\n",
      " 6   Outcome    10682 non-null  object \n",
      "dtypes: float64(1), int64(2), object(4)\n",
      "memory usage: 4.0+ MB\n"
     ]
    }
   ],
   "source": [
    "df.info()"
   ]
  },
  {
   "cell_type": "code",
   "execution_count": 36,
   "metadata": {},
   "outputs": [
    {
     "data": {
      "text/html": [
       "<div>\n",
       "<style scoped>\n",
       "    .dataframe tbody tr th:only-of-type {\n",
       "        vertical-align: middle;\n",
       "    }\n",
       "\n",
       "    .dataframe tbody tr th {\n",
       "        vertical-align: top;\n",
       "    }\n",
       "\n",
       "    .dataframe thead th {\n",
       "        text-align: right;\n",
       "    }\n",
       "</style>\n",
       "<table border=\"1\" class=\"dataframe\">\n",
       "  <thead>\n",
       "    <tr style=\"text-align: right;\">\n",
       "      <th></th>\n",
       "      <th>UserID</th>\n",
       "      <th>SessionID</th>\n",
       "      <th>Amount</th>\n",
       "    </tr>\n",
       "  </thead>\n",
       "  <tbody>\n",
       "    <tr>\n",
       "      <th>count</th>\n",
       "      <td>74817.000000</td>\n",
       "      <td>74817.000000</td>\n",
       "      <td>10682.000000</td>\n",
       "    </tr>\n",
       "    <tr>\n",
       "      <th>mean</th>\n",
       "      <td>500.740741</td>\n",
       "      <td>5.509777</td>\n",
       "      <td>253.189758</td>\n",
       "    </tr>\n",
       "    <tr>\n",
       "      <th>std</th>\n",
       "      <td>288.945183</td>\n",
       "      <td>2.869337</td>\n",
       "      <td>143.043974</td>\n",
       "    </tr>\n",
       "    <tr>\n",
       "      <th>min</th>\n",
       "      <td>1.000000</td>\n",
       "      <td>1.000000</td>\n",
       "      <td>5.131843</td>\n",
       "    </tr>\n",
       "    <tr>\n",
       "      <th>25%</th>\n",
       "      <td>251.000000</td>\n",
       "      <td>3.000000</td>\n",
       "      <td>130.933965</td>\n",
       "    </tr>\n",
       "    <tr>\n",
       "      <th>50%</th>\n",
       "      <td>501.000000</td>\n",
       "      <td>6.000000</td>\n",
       "      <td>253.112517</td>\n",
       "    </tr>\n",
       "    <tr>\n",
       "      <th>75%</th>\n",
       "      <td>751.000000</td>\n",
       "      <td>8.000000</td>\n",
       "      <td>378.832078</td>\n",
       "    </tr>\n",
       "    <tr>\n",
       "      <th>max</th>\n",
       "      <td>1000.000000</td>\n",
       "      <td>10.000000</td>\n",
       "      <td>499.981538</td>\n",
       "    </tr>\n",
       "  </tbody>\n",
       "</table>\n",
       "</div>"
      ],
      "text/plain": [
       "             UserID     SessionID        Amount\n",
       "count  74817.000000  74817.000000  10682.000000\n",
       "mean     500.740741      5.509777    253.189758\n",
       "std      288.945183      2.869337    143.043974\n",
       "min        1.000000      1.000000      5.131843\n",
       "25%      251.000000      3.000000    130.933965\n",
       "50%      501.000000      6.000000    253.112517\n",
       "75%      751.000000      8.000000    378.832078\n",
       "max     1000.000000     10.000000    499.981538"
      ]
     },
     "execution_count": 36,
     "metadata": {},
     "output_type": "execute_result"
    }
   ],
   "source": [
    "df.describe()"
   ]
  },
  {
   "cell_type": "code",
   "execution_count": 42,
   "metadata": {},
   "outputs": [
    {
     "name": "stdout",
     "output_type": "stream",
     "text": [
      "Objects:  Index(['Timestamp', 'EventType', 'ProductID', 'Outcome'], dtype='object') \n",
      "\n",
      "Integers:  Index([], dtype='object') \n",
      "\n",
      "Floats:  Index(['Amount'], dtype='object')\n"
     ]
    }
   ],
   "source": [
    "dtypes = df.dtypes\n",
    "\n",
    "obj_cols = dtypes[dtypes == 'object'].index\n",
    "int_cols = dtypes[dtypes == 'int'].index\n",
    "float_cols = dtypes[dtypes == 'float'].index\n",
    "\n",
    "print(\"Objects: \",obj_cols, \"\\n\")\n",
    "print(\"Integers: \",int_cols, \"\\n\")\n",
    "print(\"Floats: \",float_cols)"
   ]
  },
  {
   "cell_type": "code",
   "execution_count": 43,
   "metadata": {},
   "outputs": [
    {
     "data": {
      "text/plain": [
       "UserID           0\n",
       "SessionID        0\n",
       "Timestamp        0\n",
       "EventType        0\n",
       "ProductID    42704\n",
       "Amount       64135\n",
       "Outcome      64135\n",
       "dtype: int64"
      ]
     },
     "execution_count": 43,
     "metadata": {},
     "output_type": "execute_result"
    }
   ],
   "source": [
    "df.isnull().sum()"
   ]
  },
  {
   "cell_type": "code",
   "execution_count": 44,
   "metadata": {},
   "outputs": [
    {
     "data": {
      "text/plain": [
       "UserID           0\n",
       "SessionID        0\n",
       "Timestamp        0\n",
       "EventType        0\n",
       "ProductID    42704\n",
       "Amount       64135\n",
       "Outcome      64135\n",
       "dtype: int64"
      ]
     },
     "execution_count": 44,
     "metadata": {},
     "output_type": "execute_result"
    }
   ],
   "source": [
    "df.isna().sum()"
   ]
  },
  {
   "cell_type": "code",
   "execution_count": 46,
   "metadata": {},
   "outputs": [
    {
     "name": "stdout",
     "output_type": "stream",
     "text": [
      "       UserID  SessionID                   Timestamp     EventType  ProductID  \\\n",
      "0           1          1  2024-07-07 18:00:26.959902     page_view  prod_8199   \n",
      "1           1          1  2024-03-05 22:01:00.072000     page_view  prod_4112   \n",
      "2           1          1  2024-03-23 22:08:10.568453  product_view  prod_3354   \n",
      "3           1          1  2024-03-12 00:32:05.495638   add_to_cart  prod_4965   \n",
      "4           1          1  2024-02-25 22:43:01.318876   add_to_cart  prod_2683   \n",
      "...       ...        ...                         ...           ...        ...   \n",
      "74812    1000         10  2024-05-11 22:48:45.500117      purchase        NaN   \n",
      "74813    1000         10  2024-03-29 04:09:32.514318        logout        NaN   \n",
      "74814    1000         10  2024-02-09 02:58:56.128697         login        NaN   \n",
      "74815    1000         10  2024-04-30 16:19:48.002633      purchase        NaN   \n",
      "74816    1000         10  2024-04-01 02:19:29.148727        logout        NaN   \n",
      "\n",
      "           Amount   Outcome  \n",
      "0       72.913619  purchase  \n",
      "1        7.677938  purchase  \n",
      "2      149.270047  purchase  \n",
      "3      359.589136  purchase  \n",
      "4      454.105277  purchase  \n",
      "...           ...       ...  \n",
      "74812         NaN       NaN  \n",
      "74813         NaN       NaN  \n",
      "74814         NaN       NaN  \n",
      "74815         NaN       NaN  \n",
      "74816         NaN       NaN  \n",
      "\n",
      "[74817 rows x 7 columns]\n"
     ]
    }
   ],
   "source": [
    "# Here I will replace all NaN values with empty strings\n",
    "df = df.apply(lambda x: pd.Series(x.dropna().values))\n",
    "print(df)"
   ]
  },
  {
   "cell_type": "code",
   "execution_count": 49,
   "metadata": {},
   "outputs": [
    {
     "name": "stdout",
     "output_type": "stream",
     "text": [
      "       UserID  SessionID                   Timestamp     EventType  ProductID  \\\n",
      "0           1          1  2024-07-07 18:00:26.959902     page_view  prod_8199   \n",
      "1           1          1  2024-03-05 22:01:00.072000     page_view  prod_4112   \n",
      "2           1          1  2024-03-23 22:08:10.568453  product_view  prod_3354   \n",
      "3           1          1  2024-03-12 00:32:05.495638   add_to_cart  prod_4965   \n",
      "4           1          1  2024-02-25 22:43:01.318876   add_to_cart  prod_2683   \n",
      "...       ...        ...                         ...           ...        ...   \n",
      "74812    1000         10  2024-05-11 22:48:45.500117      purchase              \n",
      "74813    1000         10  2024-03-29 04:09:32.514318        logout              \n",
      "74814    1000         10  2024-02-09 02:58:56.128697         login              \n",
      "74815    1000         10  2024-04-30 16:19:48.002633      purchase              \n",
      "74816    1000         10  2024-04-01 02:19:29.148727        logout              \n",
      "\n",
      "           Amount   Outcome  \n",
      "0       72.913619  purchase  \n",
      "1        7.677938  purchase  \n",
      "2      149.270047  purchase  \n",
      "3      359.589136  purchase  \n",
      "4      454.105277  purchase  \n",
      "...           ...       ...  \n",
      "74812                        \n",
      "74813                        \n",
      "74814                        \n",
      "74815                        \n",
      "74816                        \n",
      "\n",
      "[74817 rows x 7 columns]\n"
     ]
    }
   ],
   "source": [
    "# Fill NaN values with empty strings\n",
    "df = df.fillna('')\n",
    "\n",
    "print(df) # Here we can see that NaN values are gone"
   ]
  },
  {
   "cell_type": "code",
   "execution_count": 50,
   "metadata": {},
   "outputs": [
    {
     "data": {
      "text/plain": [
       "UserID       0\n",
       "SessionID    0\n",
       "Timestamp    0\n",
       "EventType    0\n",
       "ProductID    0\n",
       "Amount       0\n",
       "Outcome      0\n",
       "dtype: int64"
      ]
     },
     "execution_count": 50,
     "metadata": {},
     "output_type": "execute_result"
    }
   ],
   "source": [
    "df.isna().sum()"
   ]
  },
  {
   "cell_type": "code",
   "execution_count": 52,
   "metadata": {},
   "outputs": [
    {
     "data": {
      "text/plain": [
       "0"
      ]
     },
     "execution_count": 52,
     "metadata": {},
     "output_type": "execute_result"
    }
   ],
   "source": [
    "# checking if there are duplicates\n",
    "df.duplicated().sum()"
   ]
  },
  {
   "cell_type": "code",
   "execution_count": 60,
   "metadata": {},
   "outputs": [],
   "source": [
    "df.to_csv('E-commerce_Clickstream_and_Transaction\\modified_cleaned_data.csv', index=False)"
   ]
  },
  {
   "cell_type": "code",
   "execution_count": 63,
   "metadata": {},
   "outputs": [
    {
     "name": "stdout",
     "output_type": "stream",
     "text": [
      "   UserID  SessionID                   Timestamp     EventType  ProductID  \\\n",
      "0       1          1  2024-07-07 18:00:26.959902     page_view  prod_8199   \n",
      "1       1          1  2024-03-05 22:01:00.072000     page_view  prod_4112   \n",
      "2       1          1  2024-03-23 22:08:10.568453  product_view  prod_3354   \n",
      "3       1          1  2024-03-12 00:32:05.495638   add_to_cart  prod_4965   \n",
      "4       1          1  2024-02-25 22:43:01.318876   add_to_cart  prod_2683   \n",
      "5       1          1  2024-01-01 23:09:51.956825     page_view  prod_5244   \n",
      "6       1          1  2024-02-01 05:13:26.944169   add_to_cart  prod_9640   \n",
      "7       1          1  2024-02-14 15:41:53.071258         login  prod_8364   \n",
      "8       1          1  2024-05-20 23:13:38.011189         click  prod_9851   \n",
      "9       1          2  2024-06-27 16:17:34.523695     page_view  prod_6426   \n",
      "\n",
      "       Amount   Outcome  \n",
      "0   72.913619  purchase  \n",
      "1    7.677938  purchase  \n",
      "2  149.270047  purchase  \n",
      "3  359.589136  purchase  \n",
      "4  454.105277  purchase  \n",
      "5   35.606156  purchase  \n",
      "6  457.627967  purchase  \n",
      "7  459.338640  purchase  \n",
      "8  262.523699  purchase  \n",
      "9  199.356969  purchase  \n"
     ]
    }
   ],
   "source": [
    "df = pd.read_csv('E-commerce_Clickstream_and_Transaction\\modified_cleaned_data.csv')\n",
    "print(df)"
   ]
  },
  {
   "cell_type": "code",
   "execution_count": 64,
   "metadata": {},
   "outputs": [
    {
     "data": {
      "text/plain": [
       "UserID       0\n",
       "SessionID    0\n",
       "Timestamp    0\n",
       "EventType    0\n",
       "ProductID    0\n",
       "Amount       0\n",
       "Outcome      0\n",
       "dtype: int64"
      ]
     },
     "execution_count": 64,
     "metadata": {},
     "output_type": "execute_result"
    }
   ],
   "source": [
    "df.isna().sum()"
   ]
  },
  {
   "cell_type": "code",
   "execution_count": 65,
   "metadata": {},
   "outputs": [],
   "source": [
    "import pandas as pd\n",
    "import numpy as np\n",
    "import matplotlib.pyplot as plt\n",
    "import seaborn as sns"
   ]
  },
  {
   "cell_type": "code",
   "execution_count": 66,
   "metadata": {},
   "outputs": [],
   "source": [
    "df = pd.read_csv('E-commerce_Clickstream_and_Transaction\\modified_cleaned_data.csv')"
   ]
  },
  {
   "cell_type": "code",
   "execution_count": 67,
   "metadata": {},
   "outputs": [
    {
     "name": "stdout",
     "output_type": "stream",
     "text": [
      "<class 'pandas.core.frame.DataFrame'>\n",
      "RangeIndex: 10 entries, 0 to 9\n",
      "Data columns (total 7 columns):\n",
      " #   Column     Non-Null Count  Dtype  \n",
      "---  ------     --------------  -----  \n",
      " 0   UserID     10 non-null     int64  \n",
      " 1   SessionID  10 non-null     int64  \n",
      " 2   Timestamp  10 non-null     object \n",
      " 3   EventType  10 non-null     object \n",
      " 4   ProductID  10 non-null     object \n",
      " 5   Amount     10 non-null     float64\n",
      " 6   Outcome    10 non-null     object \n",
      "dtypes: float64(1), int64(2), object(4)\n",
      "memory usage: 692.0+ bytes\n",
      "   UserID  SessionID                   Timestamp     EventType  ProductID  \\\n",
      "0       1          1  2024-07-07 18:00:26.959902     page_view  prod_8199   \n",
      "1       1          1  2024-03-05 22:01:00.072000     page_view  prod_4112   \n",
      "2       1          1  2024-03-23 22:08:10.568453  product_view  prod_3354   \n",
      "3       1          1  2024-03-12 00:32:05.495638   add_to_cart  prod_4965   \n",
      "4       1          1  2024-02-25 22:43:01.318876   add_to_cart  prod_2683   \n",
      "5       1          1  2024-01-01 23:09:51.956825     page_view  prod_5244   \n",
      "6       1          1  2024-02-01 05:13:26.944169   add_to_cart  prod_9640   \n",
      "7       1          1  2024-02-14 15:41:53.071258         login  prod_8364   \n",
      "8       1          1  2024-05-20 23:13:38.011189         click  prod_9851   \n",
      "9       1          2  2024-06-27 16:17:34.523695     page_view  prod_6426   \n",
      "\n",
      "       Amount   Outcome  \n",
      "0   72.913619  purchase  \n",
      "1    7.677938  purchase  \n",
      "2  149.270047  purchase  \n",
      "3  359.589136  purchase  \n",
      "4  454.105277  purchase  \n",
      "5   35.606156  purchase  \n",
      "6  457.627967  purchase  \n",
      "7  459.338640  purchase  \n",
      "8  262.523699  purchase  \n",
      "9  199.356969  purchase  \n"
     ]
    }
   ],
   "source": [
    "df.head()\n",
    "df.info()\n",
    "df.describe()\n",
    "print(df)"
   ]
  },
  {
   "cell_type": "code",
   "execution_count": 68,
   "metadata": {},
   "outputs": [
    {
     "data": {
      "text/html": [
       "<div>\n",
       "<style scoped>\n",
       "    .dataframe tbody tr th:only-of-type {\n",
       "        vertical-align: middle;\n",
       "    }\n",
       "\n",
       "    .dataframe tbody tr th {\n",
       "        vertical-align: top;\n",
       "    }\n",
       "\n",
       "    .dataframe thead th {\n",
       "        text-align: right;\n",
       "    }\n",
       "</style>\n",
       "<table border=\"1\" class=\"dataframe\">\n",
       "  <thead>\n",
       "    <tr style=\"text-align: right;\">\n",
       "      <th></th>\n",
       "      <th>UserID</th>\n",
       "      <th>SessionID</th>\n",
       "      <th>Timestamp</th>\n",
       "      <th>EventType</th>\n",
       "      <th>ProductID</th>\n",
       "      <th>Amount</th>\n",
       "      <th>Outcome</th>\n",
       "    </tr>\n",
       "  </thead>\n",
       "  <tbody>\n",
       "    <tr>\n",
       "      <th>0</th>\n",
       "      <td>1</td>\n",
       "      <td>1</td>\n",
       "      <td>2024-07-07 18:00:26.959902</td>\n",
       "      <td>page_view</td>\n",
       "      <td>prod_8199</td>\n",
       "      <td>72.913619</td>\n",
       "      <td>purchase</td>\n",
       "    </tr>\n",
       "    <tr>\n",
       "      <th>1</th>\n",
       "      <td>1</td>\n",
       "      <td>1</td>\n",
       "      <td>2024-03-05 22:01:00.072000</td>\n",
       "      <td>page_view</td>\n",
       "      <td>prod_4112</td>\n",
       "      <td>7.677938</td>\n",
       "      <td>purchase</td>\n",
       "    </tr>\n",
       "    <tr>\n",
       "      <th>2</th>\n",
       "      <td>1</td>\n",
       "      <td>1</td>\n",
       "      <td>2024-03-23 22:08:10.568453</td>\n",
       "      <td>product_view</td>\n",
       "      <td>prod_3354</td>\n",
       "      <td>149.270047</td>\n",
       "      <td>purchase</td>\n",
       "    </tr>\n",
       "    <tr>\n",
       "      <th>3</th>\n",
       "      <td>1</td>\n",
       "      <td>1</td>\n",
       "      <td>2024-03-12 00:32:05.495638</td>\n",
       "      <td>add_to_cart</td>\n",
       "      <td>prod_4965</td>\n",
       "      <td>359.589136</td>\n",
       "      <td>purchase</td>\n",
       "    </tr>\n",
       "    <tr>\n",
       "      <th>4</th>\n",
       "      <td>1</td>\n",
       "      <td>1</td>\n",
       "      <td>2024-02-25 22:43:01.318876</td>\n",
       "      <td>add_to_cart</td>\n",
       "      <td>prod_2683</td>\n",
       "      <td>454.105277</td>\n",
       "      <td>purchase</td>\n",
       "    </tr>\n",
       "  </tbody>\n",
       "</table>\n",
       "</div>"
      ],
      "text/plain": [
       "   UserID  SessionID                   Timestamp     EventType  ProductID  \\\n",
       "0       1          1  2024-07-07 18:00:26.959902     page_view  prod_8199   \n",
       "1       1          1  2024-03-05 22:01:00.072000     page_view  prod_4112   \n",
       "2       1          1  2024-03-23 22:08:10.568453  product_view  prod_3354   \n",
       "3       1          1  2024-03-12 00:32:05.495638   add_to_cart  prod_4965   \n",
       "4       1          1  2024-02-25 22:43:01.318876   add_to_cart  prod_2683   \n",
       "\n",
       "       Amount   Outcome  \n",
       "0   72.913619  purchase  \n",
       "1    7.677938  purchase  \n",
       "2  149.270047  purchase  \n",
       "3  359.589136  purchase  \n",
       "4  454.105277  purchase  "
      ]
     },
     "execution_count": 68,
     "metadata": {},
     "output_type": "execute_result"
    }
   ],
   "source": [
    "df.head()"
   ]
  },
  {
   "cell_type": "markdown",
   "metadata": {},
   "source": [
    "Creating New Features"
   ]
  },
  {
   "cell_type": "code",
   "execution_count": 70,
   "metadata": {},
   "outputs": [],
   "source": [
    "# Creating new feature: Convert the Timestamp to a datetime object and extract time-based features.\n",
    "df['Timestamp'] = pd.to_datetime(df['Timestamp'])"
   ]
  },
  {
   "cell_type": "code",
   "execution_count": 71,
   "metadata": {},
   "outputs": [],
   "source": [
    "# Extract date and time features\n",
    "df['Year'] = df['Timestamp'].dt.year\n",
    "df['Month'] = df['Timestamp'].dt.month\n",
    "df['Day'] = df['Timestamp'].dt.day\n",
    "df['Hour'] = df['Timestamp'].dt.hour\n",
    "df['Minute'] = df['Timestamp'].dt.minute\n",
    "df['Second'] = df['Timestamp'].dt.second"
   ]
  },
  {
   "cell_type": "code",
   "execution_count": 72,
   "metadata": {},
   "outputs": [],
   "source": [
    "# Extract day of the week and whether the timestamp is on a weekend\n",
    "df['DayOfWeek'] = df['Timestamp'].dt.dayofweek\n",
    "df['IsWeekend'] = df['DayOfWeek'].apply(lambda x: 1 if x >= 5 else 0)"
   ]
  },
  {
   "cell_type": "code",
   "execution_count": null,
   "metadata": {},
   "outputs": [],
   "source": [
    "# User-Based Features\n",
    "df['UserSessionCount'] = df.groupby(['UserID', 'SessionID']).transform('nunique')\n",
    "df['UserTotalAmount'] = df.groupby('UserID')['Amount'].transform('sum')\n",
    "df['UserAvgAmountPerSession'] = df['UserTotalAmount'] / df['UserSessionCount']\n",
    "df['UserEventCount'] = df.groupby('UserID')['EventType'].transform('count')"
   ]
  },
  {
   "cell_type": "code",
   "execution_count": 82,
   "metadata": {},
   "outputs": [],
   "source": [
    "# Number of events per session\n",
    "df['SessionEventCount'] = df.groupby('SessionID')['EventType'].transform('count')\n",
    "\n",
    "# Total amount spent per session\n",
    "df['SessionTotalAmount'] = df.groupby('SessionID')['Amount'].transform('sum')\n",
    "\n",
    "# Average amount spent per event in a session\n",
    "df['SessionAvgAmountPerEvent'] = df['SessionTotalAmount'] / df['SessionEventCount']\n",
    "\n",
    "# Duration of session (time difference between first and last event in the session)\n",
    "df['SessionStartTime'] = df.groupby('SessionID')['Timestamp'].transform('min')\n",
    "df['SessionEndTime'] = df.groupby('SessionID')['Timestamp'].transform('max')\n",
    "df['SessionDuration'] = (df['SessionEndTime'] - df['SessionStartTime']).dt.total_seconds()"
   ]
  },
  {
   "cell_type": "code",
   "execution_count": 83,
   "metadata": {},
   "outputs": [],
   "source": [
    "#Product Based Features\n",
    "# Number of times a product has been viewed or purchased\n",
    "df['ProductEventCount'] = df.groupby('ProductID')['EventType'].transform('count')\n",
    "\n",
    "# Total amount spent on each product\n",
    "df['ProductTotalAmount'] = df.groupby('ProductID')['Amount'].transform('sum')\n",
    "\n",
    "# Average amount spent per event for each product\n",
    "df['ProductAvgAmountPerEvent'] = df['ProductTotalAmount'] / df['ProductEventCount']\n"
   ]
  },
  {
   "cell_type": "code",
   "execution_count": 84,
   "metadata": {},
   "outputs": [],
   "source": [
    "# Count of each event type per user\n",
    "df['UserEventTypeCount'] = df.groupby(['UserID', 'EventType'])['EventType'].transform('count')\n",
    "\n",
    "# Total amount spent per event type\n",
    "df['EventTypeTotalAmount'] = df.groupby('EventType')['Amount'].transform('sum')"
   ]
  },
  {
   "cell_type": "code",
   "execution_count": 85,
   "metadata": {},
   "outputs": [],
   "source": [
    "# Total amount spent for each outcome type\n",
    "df['OutcomeTotalAmount'] = df.groupby('Outcome')['Amount'].transform('sum')\n",
    "\n",
    "# Average amount spent for each outcome type\n",
    "df['OutcomeAvgAmount'] = df.groupby('Outcome')['Amount'].transform('mean')\n",
    "\n",
    "# Count of events resulting in each outcome\n",
    "df['OutcomeEventCount'] = df.groupby('Outcome')['EventType'].transform('count')"
   ]
  },
  {
   "cell_type": "code",
   "execution_count": 86,
   "metadata": {},
   "outputs": [],
   "source": [
    "# Number of sessions and total amount spent per user per outcome\n",
    "df['UserOutcomeSessionCount'] = df.groupby(['UserID', 'Outcome'])['SessionID'].transform('nunique')\n",
    "df['UserOutcomeTotalAmount'] = df.groupby(['UserID', 'Outcome'])['Amount'].transform('sum')\n",
    "\n",
    "# Total number of events and total amount spent per product per outcome\n",
    "df['ProductOutcomeEventCount'] = df.groupby(['ProductID', 'Outcome'])['EventType'].transform('count')\n",
    "df['ProductOutcomeTotalAmount'] = df.groupby(['ProductID', 'Outcome'])['Amount'].transform('sum')\n"
   ]
  },
  {
   "cell_type": "code",
   "execution_count": 87,
   "metadata": {},
   "outputs": [],
   "source": [
    "# Save the updated DataFrame to a new CSV file\n",
    "df.to_csv('E-commerce_Clickstream_and_Transaction/feature_engineered_data.csv', index=False)"
   ]
  },
  {
   "cell_type": "markdown",
   "metadata": {},
   "source": [
    "Summary of New Features:"
   ]
  },
  {
   "cell_type": "markdown",
   "metadata": {},
   "source": [
    "Time-Based Features: Year, Month, Day, Hour, Minute, Second, DayOfWeek, IsWeekend\n",
    "User-Based Features: UserSessionCount, UserTotalAmount, UserAvgAmountPerSession, UserEventCount\n",
    "Session-Based Features: SessionEventCount, SessionTotalAmount, SessionAvgAmountPerEvent, SessionDuration\n",
    "Product-Based Features: ProductEventCount, ProductTotalAmount, ProductAvgAmountPerEvent\n",
    "Event-Based Features: UserEventTypeCount, EventTypeTotalAmount\n",
    "Outcome-Based Features: OutcomeTotalAmount, OutcomeAvgAmount, OutcomeEventCount\n",
    "Aggregate Features: UserOutcomeSessionCount, UserOutcomeTotalAmount, ProductOutcomeEventCount, ProductOutcomeTotalAmount"
   ]
  },
  {
   "cell_type": "code",
   "execution_count": 88,
   "metadata": {},
   "outputs": [],
   "source": [
    "df = pd.read_csv('E-commerce_Clickstream_and_Transaction/feature_engineered_data.csv')"
   ]
  },
  {
   "cell_type": "markdown",
   "metadata": {},
   "source": [
    "Data Transformation"
   ]
  },
  {
   "cell_type": "code",
   "execution_count": 90,
   "metadata": {},
   "outputs": [
    {
     "name": "stdout",
     "output_type": "stream",
     "text": [
      "<class 'pandas.core.frame.DataFrame'>\n",
      "RangeIndex: 10 entries, 0 to 9\n",
      "Data columns (total 33 columns):\n",
      " #   Column                     Non-Null Count  Dtype  \n",
      "---  ------                     --------------  -----  \n",
      " 0   UserID                     10 non-null     int64  \n",
      " 1   SessionID                  10 non-null     int64  \n",
      " 2   Timestamp                  10 non-null     object \n",
      " 3   EventType                  10 non-null     object \n",
      " 4   ProductID                  10 non-null     object \n",
      " 5   Amount                     10 non-null     float64\n",
      " 6   Outcome                    10 non-null     object \n",
      " 7   Year                       10 non-null     int64  \n",
      " 8   Month                      10 non-null     int64  \n",
      " 9   Day                        10 non-null     int64  \n",
      " 10  Hour                       10 non-null     int64  \n",
      " 11  Minute                     10 non-null     int64  \n",
      " 12  Second                     10 non-null     int64  \n",
      " 13  DayOfWeek                  10 non-null     int64  \n",
      " 14  IsWeekend                  10 non-null     int64  \n",
      " 15  SessionEventCount          10 non-null     int64  \n",
      " 16  SessionTotalAmount         10 non-null     float64\n",
      " 17  SessionAvgAmountPerEvent   10 non-null     float64\n",
      " 18  SessionStartTime           10 non-null     object \n",
      " 19  SessionEndTime             10 non-null     object \n",
      " 20  SessionDuration            10 non-null     float64\n",
      " 21  ProductEventCount          10 non-null     int64  \n",
      " 22  ProductTotalAmount         10 non-null     float64\n",
      " 23  ProductAvgAmountPerEvent   10 non-null     float64\n",
      " 24  UserEventTypeCount         10 non-null     int64  \n",
      " 25  EventTypeTotalAmount       10 non-null     float64\n",
      " 26  OutcomeTotalAmount         10 non-null     float64\n",
      " 27  OutcomeAvgAmount           10 non-null     float64\n",
      " 28  OutcomeEventCount          10 non-null     int64  \n",
      " 29  UserOutcomeSessionCount    10 non-null     int64  \n",
      " 30  UserOutcomeTotalAmount     10 non-null     float64\n",
      " 31  ProductOutcomeEventCount   10 non-null     int64  \n",
      " 32  ProductOutcomeTotalAmount  10 non-null     float64\n",
      "dtypes: float64(11), int64(16), object(6)\n",
      "memory usage: 2.7+ KB\n",
      "   UserID  SessionID                   Timestamp     EventType  ProductID  \\\n",
      "0       1          1  2024-07-07 18:00:26.959902     page_view  prod_8199   \n",
      "1       1          1  2024-03-05 22:01:00.072000     page_view  prod_4112   \n",
      "2       1          1  2024-03-23 22:08:10.568453  product_view  prod_3354   \n",
      "3       1          1  2024-03-12 00:32:05.495638   add_to_cart  prod_4965   \n",
      "4       1          1  2024-02-25 22:43:01.318876   add_to_cart  prod_2683   \n",
      "5       1          1  2024-01-01 23:09:51.956825     page_view  prod_5244   \n",
      "6       1          1  2024-02-01 05:13:26.944169   add_to_cart  prod_9640   \n",
      "7       1          1  2024-02-14 15:41:53.071258         login  prod_8364   \n",
      "8       1          1  2024-05-20 23:13:38.011189         click  prod_9851   \n",
      "9       1          2  2024-06-27 16:17:34.523695     page_view  prod_6426   \n",
      "\n",
      "       Amount   Outcome  Year  Month  Day  ...  ProductAvgAmountPerEvent  \\\n",
      "0   72.913619  purchase  2024      7    7  ...                 72.913619   \n",
      "1    7.677938  purchase  2024      3    5  ...                  7.677938   \n",
      "2  149.270047  purchase  2024      3   23  ...                149.270047   \n",
      "3  359.589136  purchase  2024      3   12  ...                359.589136   \n",
      "4  454.105277  purchase  2024      2   25  ...                454.105277   \n",
      "5   35.606156  purchase  2024      1    1  ...                 35.606156   \n",
      "6  457.627967  purchase  2024      2    1  ...                457.627967   \n",
      "7  459.338640  purchase  2024      2   14  ...                459.338640   \n",
      "8  262.523699  purchase  2024      5   20  ...                262.523699   \n",
      "9  199.356969  purchase  2024      6   27  ...                199.356969   \n",
      "\n",
      "   UserEventTypeCount  EventTypeTotalAmount  OutcomeTotalAmount  \\\n",
      "0                   4            315.554682         2458.009448   \n",
      "1                   4            315.554682         2458.009448   \n",
      "2                   1            149.270047         2458.009448   \n",
      "3                   3           1271.322380         2458.009448   \n",
      "4                   3           1271.322380         2458.009448   \n",
      "5                   4            315.554682         2458.009448   \n",
      "6                   3           1271.322380         2458.009448   \n",
      "7                   1            459.338640         2458.009448   \n",
      "8                   1            262.523699         2458.009448   \n",
      "9                   4            315.554682         2458.009448   \n",
      "\n",
      "   OutcomeAvgAmount  OutcomeEventCount  UserOutcomeSessionCount  \\\n",
      "0        245.800945                 10                        2   \n",
      "1        245.800945                 10                        2   \n",
      "2        245.800945                 10                        2   \n",
      "3        245.800945                 10                        2   \n",
      "4        245.800945                 10                        2   \n",
      "5        245.800945                 10                        2   \n",
      "6        245.800945                 10                        2   \n",
      "7        245.800945                 10                        2   \n",
      "8        245.800945                 10                        2   \n",
      "9        245.800945                 10                        2   \n",
      "\n",
      "   UserOutcomeTotalAmount ProductOutcomeEventCount ProductOutcomeTotalAmount  \n",
      "0             2458.009448                        1                 72.913619  \n",
      "1             2458.009448                        1                  7.677938  \n",
      "2             2458.009448                        1                149.270047  \n",
      "3             2458.009448                        1                359.589136  \n",
      "4             2458.009448                        1                454.105277  \n",
      "5             2458.009448                        1                 35.606156  \n",
      "6             2458.009448                        1                457.627967  \n",
      "7             2458.009448                        1                459.338640  \n",
      "8             2458.009448                        1                262.523699  \n",
      "9             2458.009448                        1                199.356969  \n",
      "\n",
      "[10 rows x 33 columns]\n"
     ]
    }
   ],
   "source": [
    "df.head()\n",
    "df.info()\n",
    "df.describe()\n",
    "print(df)"
   ]
  },
  {
   "cell_type": "code",
   "execution_count": 91,
   "metadata": {},
   "outputs": [
    {
     "data": {
      "text/html": [
       "<div>\n",
       "<style scoped>\n",
       "    .dataframe tbody tr th:only-of-type {\n",
       "        vertical-align: middle;\n",
       "    }\n",
       "\n",
       "    .dataframe tbody tr th {\n",
       "        vertical-align: top;\n",
       "    }\n",
       "\n",
       "    .dataframe thead th {\n",
       "        text-align: right;\n",
       "    }\n",
       "</style>\n",
       "<table border=\"1\" class=\"dataframe\">\n",
       "  <thead>\n",
       "    <tr style=\"text-align: right;\">\n",
       "      <th></th>\n",
       "      <th>UserID</th>\n",
       "      <th>SessionID</th>\n",
       "      <th>Amount</th>\n",
       "      <th>Year</th>\n",
       "      <th>Month</th>\n",
       "      <th>Day</th>\n",
       "      <th>Hour</th>\n",
       "      <th>Minute</th>\n",
       "      <th>Second</th>\n",
       "      <th>DayOfWeek</th>\n",
       "      <th>...</th>\n",
       "      <th>ProductAvgAmountPerEvent</th>\n",
       "      <th>UserEventTypeCount</th>\n",
       "      <th>EventTypeTotalAmount</th>\n",
       "      <th>OutcomeTotalAmount</th>\n",
       "      <th>OutcomeAvgAmount</th>\n",
       "      <th>OutcomeEventCount</th>\n",
       "      <th>UserOutcomeSessionCount</th>\n",
       "      <th>UserOutcomeTotalAmount</th>\n",
       "      <th>ProductOutcomeEventCount</th>\n",
       "      <th>ProductOutcomeTotalAmount</th>\n",
       "    </tr>\n",
       "  </thead>\n",
       "  <tbody>\n",
       "    <tr>\n",
       "      <th>count</th>\n",
       "      <td>10.0</td>\n",
       "      <td>10.000000</td>\n",
       "      <td>10.000000</td>\n",
       "      <td>10.0</td>\n",
       "      <td>10.00000</td>\n",
       "      <td>10.000000</td>\n",
       "      <td>10.000000</td>\n",
       "      <td>10.00000</td>\n",
       "      <td>10.00000</td>\n",
       "      <td>10.000000</td>\n",
       "      <td>...</td>\n",
       "      <td>10.000000</td>\n",
       "      <td>10.000000</td>\n",
       "      <td>10.000000</td>\n",
       "      <td>10.000000</td>\n",
       "      <td>1.000000e+01</td>\n",
       "      <td>10.0</td>\n",
       "      <td>10.0</td>\n",
       "      <td>10.000000</td>\n",
       "      <td>10.0</td>\n",
       "      <td>10.000000</td>\n",
       "    </tr>\n",
       "    <tr>\n",
       "      <th>mean</th>\n",
       "      <td>1.0</td>\n",
       "      <td>1.100000</td>\n",
       "      <td>245.800945</td>\n",
       "      <td>2024.0</td>\n",
       "      <td>3.40000</td>\n",
       "      <td>13.500000</td>\n",
       "      <td>16.600000</td>\n",
       "      <td>17.70000</td>\n",
       "      <td>24.40000</td>\n",
       "      <td>2.700000</td>\n",
       "      <td>...</td>\n",
       "      <td>245.800945</td>\n",
       "      <td>2.800000</td>\n",
       "      <td>594.731825</td>\n",
       "      <td>2458.009448</td>\n",
       "      <td>2.458009e+02</td>\n",
       "      <td>10.0</td>\n",
       "      <td>2.0</td>\n",
       "      <td>2458.009448</td>\n",
       "      <td>1.0</td>\n",
       "      <td>245.800945</td>\n",
       "    </tr>\n",
       "    <tr>\n",
       "      <th>std</th>\n",
       "      <td>0.0</td>\n",
       "      <td>0.316228</td>\n",
       "      <td>179.300131</td>\n",
       "      <td>0.0</td>\n",
       "      <td>1.95505</td>\n",
       "      <td>9.868581</td>\n",
       "      <td>8.058122</td>\n",
       "      <td>15.61374</td>\n",
       "      <td>19.81694</td>\n",
       "      <td>2.311805</td>\n",
       "      <td>...</td>\n",
       "      <td>179.300131</td>\n",
       "      <td>1.316561</td>\n",
       "      <td>472.841716</td>\n",
       "      <td>0.000000</td>\n",
       "      <td>2.995911e-14</td>\n",
       "      <td>0.0</td>\n",
       "      <td>0.0</td>\n",
       "      <td>0.000000</td>\n",
       "      <td>0.0</td>\n",
       "      <td>179.300131</td>\n",
       "    </tr>\n",
       "    <tr>\n",
       "      <th>min</th>\n",
       "      <td>1.0</td>\n",
       "      <td>1.000000</td>\n",
       "      <td>7.677938</td>\n",
       "      <td>2024.0</td>\n",
       "      <td>1.00000</td>\n",
       "      <td>1.000000</td>\n",
       "      <td>0.000000</td>\n",
       "      <td>0.00000</td>\n",
       "      <td>0.00000</td>\n",
       "      <td>0.000000</td>\n",
       "      <td>...</td>\n",
       "      <td>7.677938</td>\n",
       "      <td>1.000000</td>\n",
       "      <td>149.270047</td>\n",
       "      <td>2458.009448</td>\n",
       "      <td>2.458009e+02</td>\n",
       "      <td>10.0</td>\n",
       "      <td>2.0</td>\n",
       "      <td>2458.009448</td>\n",
       "      <td>1.0</td>\n",
       "      <td>7.677938</td>\n",
       "    </tr>\n",
       "    <tr>\n",
       "      <th>25%</th>\n",
       "      <td>1.0</td>\n",
       "      <td>1.000000</td>\n",
       "      <td>92.002726</td>\n",
       "      <td>2024.0</td>\n",
       "      <td>2.00000</td>\n",
       "      <td>5.500000</td>\n",
       "      <td>15.250000</td>\n",
       "      <td>8.25000</td>\n",
       "      <td>6.25000</td>\n",
       "      <td>1.000000</td>\n",
       "      <td>...</td>\n",
       "      <td>92.002726</td>\n",
       "      <td>1.500000</td>\n",
       "      <td>315.554682</td>\n",
       "      <td>2458.009448</td>\n",
       "      <td>2.458009e+02</td>\n",
       "      <td>10.0</td>\n",
       "      <td>2.0</td>\n",
       "      <td>2458.009448</td>\n",
       "      <td>1.0</td>\n",
       "      <td>92.002726</td>\n",
       "    </tr>\n",
       "    <tr>\n",
       "      <th>50%</th>\n",
       "      <td>1.0</td>\n",
       "      <td>1.000000</td>\n",
       "      <td>230.940334</td>\n",
       "      <td>2024.0</td>\n",
       "      <td>3.00000</td>\n",
       "      <td>13.000000</td>\n",
       "      <td>20.000000</td>\n",
       "      <td>13.00000</td>\n",
       "      <td>26.00000</td>\n",
       "      <td>2.500000</td>\n",
       "      <td>...</td>\n",
       "      <td>230.940334</td>\n",
       "      <td>3.000000</td>\n",
       "      <td>315.554682</td>\n",
       "      <td>2458.009448</td>\n",
       "      <td>2.458009e+02</td>\n",
       "      <td>10.0</td>\n",
       "      <td>2.0</td>\n",
       "      <td>2458.009448</td>\n",
       "      <td>1.0</td>\n",
       "      <td>230.940334</td>\n",
       "    </tr>\n",
       "    <tr>\n",
       "      <th>75%</th>\n",
       "      <td>1.0</td>\n",
       "      <td>1.000000</td>\n",
       "      <td>430.476241</td>\n",
       "      <td>2024.0</td>\n",
       "      <td>4.50000</td>\n",
       "      <td>22.250000</td>\n",
       "      <td>22.000000</td>\n",
       "      <td>28.25000</td>\n",
       "      <td>37.00000</td>\n",
       "      <td>4.500000</td>\n",
       "      <td>...</td>\n",
       "      <td>430.476241</td>\n",
       "      <td>4.000000</td>\n",
       "      <td>1068.326445</td>\n",
       "      <td>2458.009448</td>\n",
       "      <td>2.458009e+02</td>\n",
       "      <td>10.0</td>\n",
       "      <td>2.0</td>\n",
       "      <td>2458.009448</td>\n",
       "      <td>1.0</td>\n",
       "      <td>430.476241</td>\n",
       "    </tr>\n",
       "    <tr>\n",
       "      <th>max</th>\n",
       "      <td>1.0</td>\n",
       "      <td>2.000000</td>\n",
       "      <td>459.338640</td>\n",
       "      <td>2024.0</td>\n",
       "      <td>7.00000</td>\n",
       "      <td>27.000000</td>\n",
       "      <td>23.000000</td>\n",
       "      <td>43.00000</td>\n",
       "      <td>53.00000</td>\n",
       "      <td>6.000000</td>\n",
       "      <td>...</td>\n",
       "      <td>459.338640</td>\n",
       "      <td>4.000000</td>\n",
       "      <td>1271.322380</td>\n",
       "      <td>2458.009448</td>\n",
       "      <td>2.458009e+02</td>\n",
       "      <td>10.0</td>\n",
       "      <td>2.0</td>\n",
       "      <td>2458.009448</td>\n",
       "      <td>1.0</td>\n",
       "      <td>459.338640</td>\n",
       "    </tr>\n",
       "  </tbody>\n",
       "</table>\n",
       "<p>8 rows × 27 columns</p>\n",
       "</div>"
      ],
      "text/plain": [
       "       UserID  SessionID      Amount    Year     Month        Day       Hour  \\\n",
       "count    10.0  10.000000   10.000000    10.0  10.00000  10.000000  10.000000   \n",
       "mean      1.0   1.100000  245.800945  2024.0   3.40000  13.500000  16.600000   \n",
       "std       0.0   0.316228  179.300131     0.0   1.95505   9.868581   8.058122   \n",
       "min       1.0   1.000000    7.677938  2024.0   1.00000   1.000000   0.000000   \n",
       "25%       1.0   1.000000   92.002726  2024.0   2.00000   5.500000  15.250000   \n",
       "50%       1.0   1.000000  230.940334  2024.0   3.00000  13.000000  20.000000   \n",
       "75%       1.0   1.000000  430.476241  2024.0   4.50000  22.250000  22.000000   \n",
       "max       1.0   2.000000  459.338640  2024.0   7.00000  27.000000  23.000000   \n",
       "\n",
       "         Minute    Second  DayOfWeek  ...  ProductAvgAmountPerEvent  \\\n",
       "count  10.00000  10.00000  10.000000  ...                 10.000000   \n",
       "mean   17.70000  24.40000   2.700000  ...                245.800945   \n",
       "std    15.61374  19.81694   2.311805  ...                179.300131   \n",
       "min     0.00000   0.00000   0.000000  ...                  7.677938   \n",
       "25%     8.25000   6.25000   1.000000  ...                 92.002726   \n",
       "50%    13.00000  26.00000   2.500000  ...                230.940334   \n",
       "75%    28.25000  37.00000   4.500000  ...                430.476241   \n",
       "max    43.00000  53.00000   6.000000  ...                459.338640   \n",
       "\n",
       "       UserEventTypeCount  EventTypeTotalAmount  OutcomeTotalAmount  \\\n",
       "count           10.000000             10.000000           10.000000   \n",
       "mean             2.800000            594.731825         2458.009448   \n",
       "std              1.316561            472.841716            0.000000   \n",
       "min              1.000000            149.270047         2458.009448   \n",
       "25%              1.500000            315.554682         2458.009448   \n",
       "50%              3.000000            315.554682         2458.009448   \n",
       "75%              4.000000           1068.326445         2458.009448   \n",
       "max              4.000000           1271.322380         2458.009448   \n",
       "\n",
       "       OutcomeAvgAmount  OutcomeEventCount  UserOutcomeSessionCount  \\\n",
       "count      1.000000e+01               10.0                     10.0   \n",
       "mean       2.458009e+02               10.0                      2.0   \n",
       "std        2.995911e-14                0.0                      0.0   \n",
       "min        2.458009e+02               10.0                      2.0   \n",
       "25%        2.458009e+02               10.0                      2.0   \n",
       "50%        2.458009e+02               10.0                      2.0   \n",
       "75%        2.458009e+02               10.0                      2.0   \n",
       "max        2.458009e+02               10.0                      2.0   \n",
       "\n",
       "       UserOutcomeTotalAmount  ProductOutcomeEventCount  \\\n",
       "count               10.000000                      10.0   \n",
       "mean              2458.009448                       1.0   \n",
       "std                  0.000000                       0.0   \n",
       "min               2458.009448                       1.0   \n",
       "25%               2458.009448                       1.0   \n",
       "50%               2458.009448                       1.0   \n",
       "75%               2458.009448                       1.0   \n",
       "max               2458.009448                       1.0   \n",
       "\n",
       "       ProductOutcomeTotalAmount  \n",
       "count                  10.000000  \n",
       "mean                  245.800945  \n",
       "std                   179.300131  \n",
       "min                     7.677938  \n",
       "25%                    92.002726  \n",
       "50%                   230.940334  \n",
       "75%                   430.476241  \n",
       "max                   459.338640  \n",
       "\n",
       "[8 rows x 27 columns]"
      ]
     },
     "execution_count": 91,
     "metadata": {},
     "output_type": "execute_result"
    }
   ],
   "source": [
    "df.describe()"
   ]
  },
  {
   "cell_type": "code",
   "execution_count": 92,
   "metadata": {},
   "outputs": [
    {
     "name": "stdout",
     "output_type": "stream",
     "text": [
      "       UserID  SessionID      Amount    Year     Month        Day       Hour  \\\n",
      "count    10.0  10.000000   10.000000    10.0  10.00000  10.000000  10.000000   \n",
      "mean      1.0   1.100000  245.800945  2024.0   3.40000  13.500000  16.600000   \n",
      "std       0.0   0.316228  179.300131     0.0   1.95505   9.868581   8.058122   \n",
      "min       1.0   1.000000    7.677938  2024.0   1.00000   1.000000   0.000000   \n",
      "25%       1.0   1.000000   92.002726  2024.0   2.00000   5.500000  15.250000   \n",
      "50%       1.0   1.000000  230.940334  2024.0   3.00000  13.000000  20.000000   \n",
      "75%       1.0   1.000000  430.476241  2024.0   4.50000  22.250000  22.000000   \n",
      "max       1.0   2.000000  459.338640  2024.0   7.00000  27.000000  23.000000   \n",
      "\n",
      "         Minute    Second  DayOfWeek  ...  ProductAvgAmountPerEvent  \\\n",
      "count  10.00000  10.00000  10.000000  ...                 10.000000   \n",
      "mean   17.70000  24.40000   2.700000  ...                245.800945   \n",
      "std    15.61374  19.81694   2.311805  ...                179.300131   \n",
      "min     0.00000   0.00000   0.000000  ...                  7.677938   \n",
      "25%     8.25000   6.25000   1.000000  ...                 92.002726   \n",
      "50%    13.00000  26.00000   2.500000  ...                230.940334   \n",
      "75%    28.25000  37.00000   4.500000  ...                430.476241   \n",
      "max    43.00000  53.00000   6.000000  ...                459.338640   \n",
      "\n",
      "       UserEventTypeCount  EventTypeTotalAmount  OutcomeTotalAmount  \\\n",
      "count           10.000000             10.000000           10.000000   \n",
      "mean             2.800000            594.731825         2458.009448   \n",
      "std              1.316561            472.841716            0.000000   \n",
      "min              1.000000            149.270047         2458.009448   \n",
      "25%              1.500000            315.554682         2458.009448   \n",
      "50%              3.000000            315.554682         2458.009448   \n",
      "75%              4.000000           1068.326445         2458.009448   \n",
      "max              4.000000           1271.322380         2458.009448   \n",
      "\n",
      "       OutcomeAvgAmount  OutcomeEventCount  UserOutcomeSessionCount  \\\n",
      "count      1.000000e+01               10.0                     10.0   \n",
      "mean       2.458009e+02               10.0                      2.0   \n",
      "std        2.995911e-14                0.0                      0.0   \n",
      "min        2.458009e+02               10.0                      2.0   \n",
      "25%        2.458009e+02               10.0                      2.0   \n",
      "50%        2.458009e+02               10.0                      2.0   \n",
      "75%        2.458009e+02               10.0                      2.0   \n",
      "max        2.458009e+02               10.0                      2.0   \n",
      "\n",
      "       UserOutcomeTotalAmount  ProductOutcomeEventCount  \\\n",
      "count               10.000000                      10.0   \n",
      "mean              2458.009448                       1.0   \n",
      "std                  0.000000                       0.0   \n",
      "min               2458.009448                       1.0   \n",
      "25%               2458.009448                       1.0   \n",
      "50%               2458.009448                       1.0   \n",
      "75%               2458.009448                       1.0   \n",
      "max               2458.009448                       1.0   \n",
      "\n",
      "       ProductOutcomeTotalAmount  \n",
      "count                  10.000000  \n",
      "mean                  245.800945  \n",
      "std                   179.300131  \n",
      "min                     7.677938  \n",
      "25%                    92.002726  \n",
      "50%                   230.940334  \n",
      "75%                   430.476241  \n",
      "max                   459.338640  \n",
      "\n",
      "[8 rows x 27 columns]\n"
     ]
    }
   ],
   "source": [
    "print(df.describe())"
   ]
  },
  {
   "cell_type": "code",
   "execution_count": 93,
   "metadata": {},
   "outputs": [
    {
     "name": "stdout",
     "output_type": "stream",
     "text": [
      "<class 'pandas.core.frame.DataFrame'>\n",
      "RangeIndex: 10 entries, 0 to 9\n",
      "Data columns (total 33 columns):\n",
      " #   Column                     Non-Null Count  Dtype  \n",
      "---  ------                     --------------  -----  \n",
      " 0   UserID                     10 non-null     int64  \n",
      " 1   SessionID                  10 non-null     int64  \n",
      " 2   Timestamp                  10 non-null     object \n",
      " 3   EventType                  10 non-null     object \n",
      " 4   ProductID                  10 non-null     object \n",
      " 5   Amount                     10 non-null     float64\n",
      " 6   Outcome                    10 non-null     object \n",
      " 7   Year                       10 non-null     int64  \n",
      " 8   Month                      10 non-null     int64  \n",
      " 9   Day                        10 non-null     int64  \n",
      " 10  Hour                       10 non-null     int64  \n",
      " 11  Minute                     10 non-null     int64  \n",
      " 12  Second                     10 non-null     int64  \n",
      " 13  DayOfWeek                  10 non-null     int64  \n",
      " 14  IsWeekend                  10 non-null     int64  \n",
      " 15  SessionEventCount          10 non-null     int64  \n",
      " 16  SessionTotalAmount         10 non-null     float64\n",
      " 17  SessionAvgAmountPerEvent   10 non-null     float64\n",
      " 18  SessionStartTime           10 non-null     object \n",
      " 19  SessionEndTime             10 non-null     object \n",
      " 20  SessionDuration            10 non-null     float64\n",
      " 21  ProductEventCount          10 non-null     int64  \n",
      " 22  ProductTotalAmount         10 non-null     float64\n",
      " 23  ProductAvgAmountPerEvent   10 non-null     float64\n",
      " 24  UserEventTypeCount         10 non-null     int64  \n",
      " 25  EventTypeTotalAmount       10 non-null     float64\n",
      " 26  OutcomeTotalAmount         10 non-null     float64\n",
      " 27  OutcomeAvgAmount           10 non-null     float64\n",
      " 28  OutcomeEventCount          10 non-null     int64  \n",
      " 29  UserOutcomeSessionCount    10 non-null     int64  \n",
      " 30  UserOutcomeTotalAmount     10 non-null     float64\n",
      " 31  ProductOutcomeEventCount   10 non-null     int64  \n",
      " 32  ProductOutcomeTotalAmount  10 non-null     float64\n",
      "dtypes: float64(11), int64(16), object(6)\n",
      "memory usage: 2.7+ KB\n",
      "None\n"
     ]
    }
   ],
   "source": [
    "print(df.info())"
   ]
  },
  {
   "cell_type": "code",
   "execution_count": 95,
   "metadata": {},
   "outputs": [
    {
     "name": "stdout",
     "output_type": "stream",
     "text": [
      "   UserID  SessionID                   Timestamp     EventType  ProductID  \\\n",
      "0       1          1  2024-07-07 18:00:26.959902     page_view  prod_8199   \n",
      "1       1          1  2024-03-05 22:01:00.072000     page_view  prod_4112   \n",
      "2       1          1  2024-03-23 22:08:10.568453  product_view  prod_3354   \n",
      "3       1          1  2024-03-12 00:32:05.495638   add_to_cart  prod_4965   \n",
      "4       1          1  2024-02-25 22:43:01.318876   add_to_cart  prod_2683   \n",
      "\n",
      "       Amount   Outcome  Year  Month  Day  ...  ProductAvgAmountPerEvent  \\\n",
      "0   72.913619  purchase  2024      7    7  ...                 72.913619   \n",
      "1    7.677938  purchase  2024      3    5  ...                  7.677938   \n",
      "2  149.270047  purchase  2024      3   23  ...                149.270047   \n",
      "3  359.589136  purchase  2024      3   12  ...                359.589136   \n",
      "4  454.105277  purchase  2024      2   25  ...                454.105277   \n",
      "\n",
      "   UserEventTypeCount  EventTypeTotalAmount  OutcomeTotalAmount  \\\n",
      "0                   4            315.554682         2458.009448   \n",
      "1                   4            315.554682         2458.009448   \n",
      "2                   1            149.270047         2458.009448   \n",
      "3                   3           1271.322380         2458.009448   \n",
      "4                   3           1271.322380         2458.009448   \n",
      "\n",
      "   OutcomeAvgAmount  OutcomeEventCount  UserOutcomeSessionCount  \\\n",
      "0        245.800945                 10                        2   \n",
      "1        245.800945                 10                        2   \n",
      "2        245.800945                 10                        2   \n",
      "3        245.800945                 10                        2   \n",
      "4        245.800945                 10                        2   \n",
      "\n",
      "   UserOutcomeTotalAmount ProductOutcomeEventCount ProductOutcomeTotalAmount  \n",
      "0             2458.009448                        1                 72.913619  \n",
      "1             2458.009448                        1                  7.677938  \n",
      "2             2458.009448                        1                149.270047  \n",
      "3             2458.009448                        1                359.589136  \n",
      "4             2458.009448                        1                454.105277  \n",
      "\n",
      "[5 rows x 33 columns]\n"
     ]
    }
   ],
   "source": [
    "print(df.head())"
   ]
  },
  {
   "cell_type": "code",
   "execution_count": 96,
   "metadata": {},
   "outputs": [
    {
     "name": "stdout",
     "output_type": "stream",
     "text": [
      "UserID                       0\n",
      "SessionID                    0\n",
      "Timestamp                    0\n",
      "EventType                    0\n",
      "ProductID                    0\n",
      "Amount                       0\n",
      "Outcome                      0\n",
      "Year                         0\n",
      "Month                        0\n",
      "Day                          0\n",
      "Hour                         0\n",
      "Minute                       0\n",
      "Second                       0\n",
      "DayOfWeek                    0\n",
      "IsWeekend                    0\n",
      "SessionEventCount            0\n",
      "SessionTotalAmount           0\n",
      "SessionAvgAmountPerEvent     0\n",
      "SessionStartTime             0\n",
      "SessionEndTime               0\n",
      "SessionDuration              0\n",
      "ProductEventCount            0\n",
      "ProductTotalAmount           0\n",
      "ProductAvgAmountPerEvent     0\n",
      "UserEventTypeCount           0\n",
      "EventTypeTotalAmount         0\n",
      "OutcomeTotalAmount           0\n",
      "OutcomeAvgAmount             0\n",
      "OutcomeEventCount            0\n",
      "UserOutcomeSessionCount      0\n",
      "UserOutcomeTotalAmount       0\n",
      "ProductOutcomeEventCount     0\n",
      "ProductOutcomeTotalAmount    0\n",
      "dtype: int64\n"
     ]
    }
   ],
   "source": [
    "print(df.isnull().sum())"
   ]
  },
  {
   "cell_type": "code",
   "execution_count": 12,
   "metadata": {},
   "outputs": [],
   "source": [
    "import pandas as pd\n",
    "from sklearn.preprocessing import MinMaxScaler, LabelEncoder\n",
    "\n",
    "# Load the CSV file\n",
    "df = pd.read_csv('E-commerce_Clickstream_and_Transaction/feature_engineered_data.csv')\n",
    "\n",
    "# Normalize numerical columns\n",
    "scaler = MinMaxScaler()\n",
    "columns_to_normalize = ['Amount', 'SessionTotalAmount', 'SessionAvgAmountPerEvent', 'SessionDuration',\n",
    "                         'ProductTotalAmount', 'ProductAvgAmountPerEvent', 'EventTypeTotalAmount',\n",
    "                         'OutcomeTotalAmount', 'OutcomeAvgAmount', 'UserOutcomeTotalAmount', 'ProductOutcomeTotalAmount']\n",
    "df[columns_to_normalize] = scaler.fit_transform(df[columns_to_normalize])\n",
    "\n",
    "# Encode categorical columns\n",
    "le = LabelEncoder()\n",
    "categorical_columns = ['EventType', 'Outcome', 'DayOfWeek', 'IsWeekend']\n",
    "for col in categorical_columns:\n",
    "    df[col] = le.fit_transform(df[col])\n",
    "\n",
    "# Create new feature\n",
    "peak_hours = [8, 9, 17, 18]\n",
    "df['is_peak_hour'] = df['Hour'].apply(lambda x: 1 if x in peak_hours else 0)\n",
    "\n",
    "# Save the transformed data\n",
    "df.to_csv('E-commerce_Clickstream_and_Transaction/transformed_data.csv', index=False)\n"
   ]
  },
  {
   "cell_type": "code",
   "execution_count": 18,
   "metadata": {},
   "outputs": [
    {
     "data": {
      "application/vnd.jupyter.widget-view+json": {
       "model_id": "4efdc0aefc37439aad0d9b4afcf47fed",
       "version_major": 2,
       "version_minor": 0
      },
      "text/plain": [
       "Summarize dataset:   0%|          | 0/5 [00:00<?, ?it/s]"
      ]
     },
     "metadata": {},
     "output_type": "display_data"
    },
    {
     "data": {
      "application/vnd.jupyter.widget-view+json": {
       "model_id": "63375b0284264041ad0dfbb887af66a9",
       "version_major": 2,
       "version_minor": 0
      },
      "text/plain": [
       "Generate report structure:   0%|          | 0/1 [00:00<?, ?it/s]"
      ]
     },
     "metadata": {},
     "output_type": "display_data"
    },
    {
     "data": {
      "application/vnd.jupyter.widget-view+json": {
       "model_id": "0755b3b908b341f6ab1644269db11f32",
       "version_major": 2,
       "version_minor": 0
      },
      "text/plain": [
       "Render HTML:   0%|          | 0/1 [00:00<?, ?it/s]"
      ]
     },
     "metadata": {},
     "output_type": "display_data"
    },
    {
     "data": {
      "application/vnd.jupyter.widget-view+json": {
       "model_id": "e89da85f5f624e608ece326482c216ae",
       "version_major": 2,
       "version_minor": 0
      },
      "text/plain": [
       "Export report to file:   0%|          | 0/1 [00:00<?, ?it/s]"
      ]
     },
     "metadata": {},
     "output_type": "display_data"
    }
   ],
   "source": [
    "import pandas as pd\n",
    "from ydata_profiling import ProfileReport\n",
    "\n",
    "df = pd.read_csv('E-commerce_Clickstream_and_Transaction/transformed_data.csv')\n",
    "\n",
    "profile = ProfileReport(df, title=\"E-commerce Clickstream and Transaction\", explorative=True)\n",
    "\n",
    "profile.to_file(\"E-commerce_Clickstream_and_Transaction/E-commerce Clickstream and Transaction.html\")"
   ]
  },
  {
   "cell_type": "code",
   "execution_count": 19,
   "metadata": {},
   "outputs": [],
   "source": [
    "df = pd.read_csv('E-commerce_Clickstream_and_Transaction/transformed_data.csv')\n",
    "df.to_excel('E-commerce_Clickstream_and_Transaction/transformed_data.xlsx')"
   ]
  }
 ],
 "metadata": {
  "kernelspec": {
   "display_name": "Python 3",
   "language": "python",
   "name": "python3"
  },
  "language_info": {
   "codemirror_mode": {
    "name": "ipython",
    "version": 3
   },
   "file_extension": ".py",
   "mimetype": "text/x-python",
   "name": "python",
   "nbconvert_exporter": "python",
   "pygments_lexer": "ipython3",
   "version": "3.11.2"
  }
 },
 "nbformat": 4,
 "nbformat_minor": 2
}
